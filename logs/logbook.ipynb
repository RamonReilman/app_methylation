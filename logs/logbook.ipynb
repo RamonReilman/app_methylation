{
 "cells": [
  {
   "cell_type": "markdown",
   "metadata": {},
   "source": [
    "**Table of contents**<a id='toc0_'></a>    \n",
    "- [Logs for the methylation data app](#toc1_)    \n",
    "  - [Introduction](#toc1_1_)    \n",
    "    - [21-11-2024](#toc1_1_1_)    \n",
    "  - [Loading in the data](#toc1_2_)    \n",
    "    - [21-11-2024](#toc1_2_1_)    \n",
    "    - [22-11-2024](#toc1_2_2_)    \n",
    "\n",
    "<!-- vscode-jupyter-toc-config\n",
    "\tnumbering=false\n",
    "\tanchor=true\n",
    "\tflat=false\n",
    "\tminLevel=1\n",
    "\tmaxLevel=6\n",
    "\t/vscode-jupyter-toc-config -->\n",
    "<!-- THIS CELL WILL BE REPLACED ON TOC UPDATE. DO NOT WRITE YOUR TEXT IN THIS CELL -->"
   ]
  },
  {
   "cell_type": "markdown",
   "metadata": {},
   "source": [
    "# <a id='toc1_'></a>[Logs for the methylation data app](#toc0_)"
   ]
  },
  {
   "cell_type": "markdown",
   "metadata": {},
   "source": [
    "## <a id='toc1_1_'></a>[Introduction](#toc0_)\n",
    "### <a id='toc1_1_1_'></a>[21-11-2024](#toc0_)\n",
    "\n",
    "This logbook will describe the process of creating visualisations, ideas. These visualisations and ideas will be used to create an application for research students.\n",
    "This application will take DNA methylation data as input. This app will make it easier for the students to look into their generated data, and it will help them with understanding their data.\n"
   ]
  },
  {
   "cell_type": "markdown",
   "metadata": {},
   "source": [
    "## <a id='toc1_2_'></a>[Loading in the data](#toc0_)\n",
    "### <a id='toc1_2_1_'></a>[21-11-2024](#toc0_)\n",
    "\n",
    "I would like to combine the data from all the files into one single file, with the id in the column of the df.\n",
    "This way i could compare different conditions to eachother.\n",
    "\n",
    "The first code-block is to load in the used libraries."
   ]
  },
  {
   "cell_type": "code",
   "execution_count": 3,
   "metadata": {},
   "outputs": [],
   "source": [
    "import os\n",
    "import seaborn as sns\n",
    "import polars as pl\n",
    "import pandas as pd\n",
    "import re"
   ]
  },
  {
   "cell_type": "code",
   "execution_count": 4,
   "metadata": {},
   "outputs": [
    {
     "name": "stdout",
     "output_type": "stream",
     "text": [
      "shape: (5, 4)\n",
      "┌─────────┬──────────────────────┬────────────┬───────────────────────┐\n",
      "│ barcode ┆  description         ┆ controle_n ┆ group_and_n           │\n",
      "│ ---     ┆ ---                  ┆ ---        ┆ ---                   │\n",
      "│ i64     ┆ str                  ┆ i64        ┆ str                   │\n",
      "╞═════════╪══════════════════════╪════════════╪═══════════════════════╡\n",
      "│ 11      ┆  Jurkat_DMSO_control ┆ 1          ┆  Jurkat_DMSO_control1 │\n",
      "│ 12      ┆  Jurkat_betuline     ┆ 1          ┆  Jurkat_betuline1     │\n",
      "│ 13      ┆  Healthy_control     ┆ 1          ┆  Healthy_control1     │\n",
      "│ 14      ┆  Jurkat_betuline     ┆ 2          ┆  Jurkat_betuline2     │\n",
      "│ 15      ┆  Jurkat_DMSO_control ┆ 2          ┆  Jurkat_DMSO_control2 │\n",
      "└─────────┴──────────────────────┴────────────┴───────────────────────┘\n"
     ]
    }
   ],
   "source": [
    "barcodes_names: pl.dataframe = pl.read_csv(\"/home/redman/jaar2/data/Methylatie/barcodes.csv\")\n",
    "\n",
    "barcodes_names = barcodes_names.with_columns(controle_n = pl.int_range(pl.len()).over(\" description\")+1)\n",
    "barcodes_names = barcodes_names.with_columns(group_and_n = pl.concat_str([pl.col(' description'), pl.col(\"controle_n\")]))\n",
    "print(barcodes_names.head())\n",
    "\n"
   ]
  },
  {
   "cell_type": "markdown",
   "metadata": {},
   "source": [
    "This generates a data frame that contains the barcode and also the description of the barcode\n",
    "The column called group_and_n contains the description with a control group number\n",
    "\n",
    "This is needed to label the different groups in the df that will contain all of the data\n",
    "\n",
    "Which will be loaded in the code below this block"
   ]
  },
  {
   "cell_type": "code",
   "execution_count": 5,
   "metadata": {},
   "outputs": [],
   "source": [
    "path: str = \"/home/redman/jaar2/data/Methylatie/analysis\"\n",
    "def load_files(path: str) -> pl.dataframe:\n",
    "    test: list = []\n",
    "    col_names: list = [\"chr\", \"start\", \"end\", \"frac\", \"valid\", \"group_name\"]\n",
    "    resulting_df: pd.DataFrame = pl.DataFrame(\n",
    "        {\"chr\":[],\n",
    "         \"start\":[],\n",
    "         \"end\":[],\n",
    "         \"frac\":[],\n",
    "         \"valid\":[],\n",
    "         \"group_name\":[]}\n",
    "    )\n",
    "    files: list = os.listdir(path)\n",
    "\n",
    "    for file in files:\n",
    "        if os.path.isfile(f\"{path}/{file}\") and file.endswith(\"methylatie_ALL.csv\"):\n",
    "            temp_df = pd.read_csv(f\"{path}/{file}\", sep=\"\\t\")\n",
    "            temp_df = pl.from_pandas(temp_df)\n",
    "            barcode_num = re.findall(r\"\\d+\", file)\n",
    "\n",
    "            name_group = barcodes_names.filter(pl.col(\"barcode\").cast(pl.String) == barcode_num[0]).select(\"group_and_n\")\n",
    "            temp_df = temp_df.with_columns(pl.lit(name_group).alias(\"group_name\"))\n",
    "            resulting_df = pl.concat([temp_df, resulting_df])\n",
    "    \n",
    "    return resulting_df\n",
    "    \n",
    "df: pl.DataFrame = load_files(path=path)"
   ]
  },
  {
   "cell_type": "markdown",
   "metadata": {},
   "source": [
    "All of the csv files are now loaded into 1 polars dataframe"
   ]
  },
  {
   "cell_type": "code",
   "execution_count": 7,
   "metadata": {},
   "outputs": [
    {
     "name": "stdout",
     "output_type": "stream",
     "text": [
      "shape: (5, 6)\n",
      "┌──────┬───────┬───────┬──────┬───────┬───────────────────┐\n",
      "│ chr  ┆ start ┆ end   ┆ frac ┆ valid ┆ group_name        │\n",
      "│ ---  ┆ ---   ┆ ---   ┆ ---  ┆ ---   ┆ ---               │\n",
      "│ str  ┆ i64   ┆ i64   ┆ f64  ┆ i64   ┆ str               │\n",
      "╞══════╪═══════╪═══════╪══════╪═══════╪═══════════════════╡\n",
      "│ chr1 ┆ 61624 ┆ 61625 ┆ 0.0  ┆ 1     ┆  Jurkat_betuline1 │\n",
      "│ chr1 ┆ 61802 ┆ 61803 ┆ 0.0  ┆ 1     ┆  Jurkat_betuline1 │\n",
      "│ chr1 ┆ 61900 ┆ 61901 ┆ 0.0  ┆ 1     ┆  Jurkat_betuline1 │\n",
      "│ chr1 ┆ 61921 ┆ 61922 ┆ 1.0  ┆ 1     ┆  Jurkat_betuline1 │\n",
      "│ chr1 ┆ 61929 ┆ 61930 ┆ 1.0  ┆ 1     ┆  Jurkat_betuline1 │\n",
      "└──────┴───────┴───────┴──────┴───────┴───────────────────┘\n"
     ]
    }
   ],
   "source": [
    "\n",
    "print(df.head())\n"
   ]
  },
  {
   "cell_type": "markdown",
   "metadata": {},
   "source": [
    "### <a id='toc1_2_2_'></a>[22-11-2024](#toc0_)\n",
    "I now have a data frame with the methylation data with a column called group_name that holds the name of the group of which the data comes from"
   ]
  }
 ],
 "metadata": {
  "kernelspec": {
   "display_name": ".venv",
   "language": "python",
   "name": "python3"
  },
  "language_info": {
   "codemirror_mode": {
    "name": "ipython",
    "version": 3
   },
   "file_extension": ".py",
   "mimetype": "text/x-python",
   "name": "python",
   "nbconvert_exporter": "python",
   "pygments_lexer": "ipython3",
   "version": "3.12.7"
  }
 },
 "nbformat": 4,
 "nbformat_minor": 2
}
