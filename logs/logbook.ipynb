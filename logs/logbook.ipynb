{
 "cells": [
  {
   "cell_type": "markdown",
   "metadata": {},
   "source": [
    "**Table of contents**<a id='toc0_'></a>    \n",
    "- [Logs for the methylation data app](#toc1_)    \n",
    "  - [Introduction](#toc1_1_)    \n",
    "    - [21-11-2024](#toc1_1_1_)    \n",
    "  - [Loading in the data](#toc1_2_)    \n",
    "    - [21-11-2024](#toc1_2_1_)    \n",
    "  - [Data exploration](#toc1_3_)    \n",
    "    - [22-11-2024](#toc1_3_1_)    \n",
    "    - [25-11-2024](#toc1_3_2_)    \n",
    "  - [BED file annotation](#toc1_4_)    \n",
    "    - [26-11-2024](#toc1_4_1_)    \n",
    "  - [28-11-2024](#toc1_5_)    \n",
    "    - [03-12-2024](#toc1_5_1_)    \n",
    "    - [04-12-2024](#toc1_5_2_)    \n",
    "    - [05-12-2024](#toc1_5_3_)    \n",
    "\n",
    "<!-- vscode-jupyter-toc-config\n",
    "\tnumbering=false\n",
    "\tanchor=true\n",
    "\tflat=false\n",
    "\tminLevel=1\n",
    "\tmaxLevel=6\n",
    "\t/vscode-jupyter-toc-config -->\n",
    "<!-- THIS CELL WILL BE REPLACED ON TOC UPDATE. DO NOT WRITE YOUR TEXT IN THIS CELL -->"
   ]
  },
  {
   "cell_type": "markdown",
   "metadata": {},
   "source": [
    "# <a id='toc1_'></a>[Logs for the methylation data app](#toc0_)"
   ]
  },
  {
   "cell_type": "markdown",
   "metadata": {},
   "source": [
    "## <a id='toc1_1_'></a>[Introduction](#toc0_)\n",
    "### <a id='toc1_1_1_'></a>[21-11-2024](#toc0_)\n",
    "\n",
    "This logbook will describe the process of creating visualisations, ideas. These visualisations and ideas will be used to create an application for research students.\n",
    "This application will take DNA methylation data as input. This app will make it easier for the students to look into their generated data, and it will help them with understanding their data.\n"
   ]
  },
  {
   "cell_type": "markdown",
   "metadata": {},
   "source": [
    "## <a id='toc1_2_'></a>[Loading in the data](#toc0_)\n",
    "### <a id='toc1_2_1_'></a>[21-11-2024](#toc0_)\n",
    "\n",
    "I would like to combine the data from all the files into one single file, with the id in the column of the df.\n",
    "This way i could compare different conditions to eachother.\n",
    "\n",
    "The first code-block is to load in the used libraries."
   ]
  },
  {
   "cell_type": "code",
   "execution_count": 82,
   "metadata": {
    "ExecuteTime": {
     "end_time": "2024-11-22T11:16:01.011475Z",
     "start_time": "2024-11-22T11:16:00.946419Z"
    }
   },
   "outputs": [],
   "source": [
    "import os\n",
    "import seaborn as sns\n",
    "import matplotlib.pyplot as plt\n",
    "import polars as pl\n",
    "from Bio import SeqIO\n",
    "import pandas as pd\n",
    "import re\n",
    "import plotly.express as px"
   ]
  },
  {
   "cell_type": "code",
   "execution_count": 2,
   "metadata": {
    "ExecuteTime": {
     "end_time": "2024-11-22T11:16:02.575714Z",
     "start_time": "2024-11-22T11:16:02.561630Z"
    }
   },
   "outputs": [
    {
     "name": "stdout",
     "output_type": "stream",
     "text": [
      "shape: (5, 3)\n",
      "┌─────────┬─────────────────────┬──────────────────────┐\n",
      "│ barcode ┆  description        ┆ group_and_n          │\n",
      "│ ---     ┆ ---                 ┆ ---                  │\n",
      "│ i64     ┆ str                 ┆ str                  │\n",
      "╞═════════╪═════════════════════╪══════════════════════╡\n",
      "│ 11      ┆ Jurkat_DMSO_control ┆ Jurkat_DMSO_control1 │\n",
      "│ 12      ┆ Jurkat_betuline     ┆ Jurkat_betuline1     │\n",
      "│ 13      ┆ Healthy_control     ┆ Healthy_control1     │\n",
      "│ 14      ┆ Jurkat_betuline     ┆ Jurkat_betuline2     │\n",
      "│ 15      ┆ Jurkat_DMSO_control ┆ Jurkat_DMSO_control2 │\n",
      "└─────────┴─────────────────────┴──────────────────────┘\n"
     ]
    }
   ],
   "source": [
    "barcodes_names: pl.dataframe = pl.read_csv(\"/commons/Themas/Thema06/Methylatie/barcodes.csv\")\n",
    "\n",
    "barcodes_names = barcodes_names.with_columns(controle_n = pl.int_range(pl.len()).over(\" description\")+1)\n",
    "barcodes_names = barcodes_names.with_columns(group_and_n = pl.concat_str([pl.col(' description'), pl.col(\"controle_n\")]))\n",
    "\n",
    "barcodes_names = barcodes_names.with_columns(pl.col(pl.Utf8).str.strip_chars()).drop(\"controle_n\")\n",
    "\n",
    "print(barcodes_names)\n"
   ]
  },
  {
   "cell_type": "markdown",
   "metadata": {},
   "source": [
    "This generates a data frame that contains the barcode and also the description of the barcode\n",
    "The column called group_and_n contains the description with a control group number\n",
    "\n",
    "This is needed to label the different groups in the df that will contain all of the data\n",
    "\n",
    "Which will be loaded in the code below this block"
   ]
  },
  {
   "cell_type": "code",
   "execution_count": 3,
   "metadata": {
    "ExecuteTime": {
     "end_time": "2024-11-22T11:16:20.852674Z",
     "start_time": "2024-11-22T11:16:04.653763Z"
    }
   },
   "outputs": [],
   "source": [
    "path: str = \"/commons/Themas/Thema06/Methylatie/analysis\"\n",
    "def load_files(path: str) -> pl.dataframe:\n",
    "    resulting_df: pd.DataFrame = pl.DataFrame(\n",
    "        {\"chr\":[],\n",
    "         \"start\":[],\n",
    "         \"end\":[],\n",
    "         \"frac\":[],\n",
    "         \"valid\":[],\n",
    "         \"group_name\":[]}\n",
    "    )\n",
    "    files: list[str] = os.listdir(path)\n",
    "\n",
    "    for file in files:\n",
    "        if os.path.isfile(f\"{path}/{file}\") and file.endswith(\"methylatie_ALL.csv\"):\n",
    "            temp_df: pd.DataFrame = pd.read_csv(f\"{path}/{file}\", sep=\"\\t\")\n",
    "            temp_df: pl.DataFrame = pl.from_pandas(temp_df)\n",
    "            barcode_num: list[int] = re.findall(r\"\\d+\", file)\n",
    "\n",
    "            name_group: str = barcodes_names.filter(pl.col(\"barcode\").cast(pl.String) == barcode_num[0]).select(\"group_and_n\")\n",
    "            temp_df: pl.DataFrame = temp_df.with_columns(pl.lit(name_group).alias(\"group_name\"))\n",
    "            resulting_df = pl.concat([temp_df, resulting_df])\n",
    "    \n",
    "    return resulting_df\n",
    "    \n",
    "df: pl.DataFrame = load_files(path=path)"
   ]
  },
  {
   "cell_type": "markdown",
   "metadata": {},
   "source": [
    "All of the csv files are now loaded into 1 polars dataframe"
   ]
  },
  {
   "cell_type": "code",
   "execution_count": 4,
   "metadata": {
    "ExecuteTime": {
     "end_time": "2024-11-22T11:16:32.888362Z",
     "start_time": "2024-11-22T11:16:32.884483Z"
    }
   },
   "outputs": [
    {
     "name": "stdout",
     "output_type": "stream",
     "text": [
      "shape: (5, 6)\n",
      "┌──────┬───────┬───────┬──────┬───────┬──────────────────┐\n",
      "│ chr  ┆ start ┆ end   ┆ frac ┆ valid ┆ group_name       │\n",
      "│ ---  ┆ ---   ┆ ---   ┆ ---  ┆ ---   ┆ ---              │\n",
      "│ str  ┆ i64   ┆ i64   ┆ f64  ┆ i64   ┆ str              │\n",
      "╞══════╪═══════╪═══════╪══════╪═══════╪══════════════════╡\n",
      "│ chr1 ┆ 10468 ┆ 10469 ┆ 1.0  ┆ 1     ┆ Jurkat_betuline2 │\n",
      "│ chr1 ┆ 10470 ┆ 10471 ┆ 1.0  ┆ 2     ┆ Jurkat_betuline2 │\n",
      "│ chr1 ┆ 10488 ┆ 10489 ┆ 1.0  ┆ 2     ┆ Jurkat_betuline2 │\n",
      "│ chr1 ┆ 10492 ┆ 10493 ┆ 1.0  ┆ 2     ┆ Jurkat_betuline2 │\n",
      "│ chr1 ┆ 10496 ┆ 10497 ┆ 1.0  ┆ 1     ┆ Jurkat_betuline2 │\n",
      "└──────┴───────┴───────┴──────┴───────┴──────────────────┘\n"
     ]
    }
   ],
   "source": [
    "print(df.head())"
   ]
  },
  {
   "cell_type": "markdown",
   "metadata": {},
   "source": [
    "## <a id='toc1_3_'></a>[Data exploration](#toc0_)\n",
    "### <a id='toc1_3_1_'></a>[22-11-2024](#toc0_)\n",
    "I now have a data frame with the methylation data with a column called group_name that holds the name of the group of which the data comes from"
   ]
  },
  {
   "cell_type": "code",
   "execution_count": 5,
   "metadata": {
    "ExecuteTime": {
     "end_time": "2024-11-22T11:16:35.768393Z",
     "start_time": "2024-11-22T11:16:35.333712Z"
    }
   },
   "outputs": [
    {
     "name": "stdout",
     "output_type": "stream",
     "text": [
      "shape: (83, 6)\n",
      "┌───────┬──────────┬──────────┬──────┬───────┬──────────────────┐\n",
      "│ chr   ┆ start    ┆ end      ┆ frac ┆ valid ┆ group_name       │\n",
      "│ ---   ┆ ---      ┆ ---      ┆ ---  ┆ ---   ┆ ---              │\n",
      "│ str   ┆ i64      ┆ i64      ┆ f64  ┆ i64   ┆ str              │\n",
      "╞═══════╪══════════╪══════════╪══════╪═══════╪══════════════════╡\n",
      "│ chr10 ┆ 60778212 ┆ 60778213 ┆ 0.0  ┆ 1     ┆ Jurkat_betuline2 │\n",
      "│ chr10 ┆ 60778217 ┆ 60778218 ┆ 0.0  ┆ 1     ┆ Jurkat_betuline2 │\n",
      "│ chr10 ┆ 60778237 ┆ 60778238 ┆ 0.0  ┆ 1     ┆ Jurkat_betuline2 │\n",
      "│ chr10 ┆ 60778258 ┆ 60778259 ┆ 0.0  ┆ 1     ┆ Jurkat_betuline2 │\n",
      "│ chr10 ┆ 60778283 ┆ 60778284 ┆ 0.0  ┆ 1     ┆ Jurkat_betuline2 │\n",
      "│ …     ┆ …        ┆ …        ┆ …    ┆ …     ┆ …                │\n",
      "│ chr10 ┆ 60778682 ┆ 60778683 ┆ 0.0  ┆ 3     ┆ Healthy_control1 │\n",
      "│ chr10 ┆ 60778689 ┆ 60778690 ┆ 0.0  ┆ 3     ┆ Healthy_control1 │\n",
      "│ chr10 ┆ 60778700 ┆ 60778701 ┆ 0.0  ┆ 3     ┆ Healthy_control1 │\n",
      "│ chr10 ┆ 60778707 ┆ 60778708 ┆ 0.0  ┆ 3     ┆ Healthy_control1 │\n",
      "│ chr10 ┆ 60778723 ┆ 60778724 ┆ 0.0  ┆ 3     ┆ Healthy_control1 │\n",
      "└───────┴──────────┴──────────┴──────┴───────┴──────────────────┘\n"
     ]
    }
   ],
   "source": [
    "test: pl.DataFrame = df.filter(\n",
    "    pl.col(\"group_name\").is_in(['Healthy_control1', 'Jurkat_betuline1', 'Jurkat_betuline2'])\n",
    ")\n",
    "test: pl.DataFrame = df.filter((pl.col(\"start\") >= 60778131) & \n",
    "                   (pl.col(\"end\") <= 60778731) & \n",
    "                   (pl.col(\"chr\") == \"chr10\"))\n",
    "print(test)"
   ]
  },
  {
   "cell_type": "markdown",
   "metadata": {},
   "source": [
    "This df contains all methylation data between the range of 60778131 and 60778731 on chr 10 (CDK1).\n",
    "This is a possible way to filter for all the methylated DNA in a range.\n",
    "This is also filtered for 3 selected groups."
   ]
  },
  {
   "cell_type": "code",
   "execution_count": 6,
   "metadata": {
    "ExecuteTime": {
     "end_time": "2024-11-22T11:16:43.879496Z",
     "start_time": "2024-11-22T11:16:42.664902Z"
    }
   },
   "outputs": [
    {
     "name": "stdout",
     "output_type": "stream",
     "text": [
      "shape: (5, 2)\n",
      "┌──────────────────────┬────────────────┐\n",
      "│ group_name           ┆ n methylations │\n",
      "│ ---                  ┆ ---            │\n",
      "│ str                  ┆ u32            │\n",
      "╞══════════════════════╪════════════════╡\n",
      "│ Jurkat_DMSO_control2 ┆ 0              │\n",
      "│ Jurkat_DMSO_control1 ┆ 0              │\n",
      "│ Jurkat_betuline2     ┆ 39             │\n",
      "│ Jurkat_betuline1     ┆ 0              │\n",
      "│ Healthy_control1     ┆ 44             │\n",
      "└──────────────────────┴────────────────┘\n"
     ]
    }
   ],
   "source": [
    "all_groups = pl.DataFrame({\"group_name\": df[\"group_name\"].unique()})\n",
    "\n",
    "test_agg: pl.DataFrame = (\n",
    "    test\n",
    "    .select([\"group_name\", \"frac\"])\n",
    "    .group_by(\"group_name\")\n",
    "    .agg([pl.len().alias(\"n methylations\")])\n",
    "    .join(all_groups, on=\"group_name\", how=\"full\")\n",
    "    .with_columns(pl.col(\"group_name\").fill_null(pl.col(\"group_name_right\")))\n",
    "    .drop(\"group_name_right\") \n",
    "    .fill_null(0)\n",
    ")\n",
    "print(test_agg)\n"
   ]
  },
  {
   "cell_type": "markdown",
   "metadata": {},
   "source": [
    "This df contains the number of methylations in the range specified in the test df.\n",
    "It appears that there's only methylations for the healthy control group and 1 of the 2 betuline control groups.\n",
    "These results overlap with the results found by the students for this gene (CDK1)."
   ]
  },
  {
   "cell_type": "code",
   "execution_count": 7,
   "metadata": {
    "ExecuteTime": {
     "end_time": "2024-11-22T11:19:58.214196Z",
     "start_time": "2024-11-22T11:19:58.087615Z"
    }
   },
   "outputs": [
    {
     "data": {
      "image/png": "[encoded data removed]",
      "text/plain": [
       "<Figure size 640x480 with 1 Axes>"
      ]
     },
     "metadata": {},
     "output_type": "display_data"
    }
   ],
   "source": [
    "sns.set_theme()\n",
    "\n",
    "sns.barplot(data = test_agg.sort(\"n methylations\", descending=True),\n",
    "            y = \"group_name\", x = \"n methylations\",\n",
    "            hue=\"group_name\", palette=\"Set2\")\n",
    "plt.show()"
   ]
  },
  {
   "cell_type": "markdown",
   "metadata": {},
   "source": [
    "This plot showcases the amount of methylations for a certain gene (CDK1).\n",
    "It appears that there's only methylated DNA for 2 groups.\n",
    "\n",
    "These results overlap with the research and processing of the data that the research students have done. "
   ]
  },
  {
   "cell_type": "markdown",
   "metadata": {},
   "source": [
    "### <a id='toc1_3_2_'></a>[25-11-2024](#toc0_)\n",
    "- Extra md explanation for code above this block.\n",
    "\n",
    "The following thing i would like to check is if the difference between end and start are always 1.\n",
    "This is to check if there is any possibly faulty data.\n"
   ]
  },
  {
   "cell_type": "code",
   "execution_count": 8,
   "metadata": {},
   "outputs": [
    {
     "name": "stdout",
     "output_type": "stream",
     "text": [
      "shape: (0, 6)\n",
      "┌─────┬───────┬─────┬──────┬───────┬────────────┐\n",
      "│ chr ┆ start ┆ end ┆ frac ┆ valid ┆ group_name │\n",
      "│ --- ┆ ---   ┆ --- ┆ ---  ┆ ---   ┆ ---        │\n",
      "│ str ┆ i64   ┆ i64 ┆ f64  ┆ i64   ┆ str        │\n",
      "╞═════╪═══════╪═════╪══════╪═══════╪════════════╡\n",
      "└─────┴───────┴─────┴──────┴───────┴────────────┘\n"
     ]
    }
   ],
   "source": [
    "start_end_diff: pl.DataFrame = (\n",
    "    df\n",
    "    .filter(pl.col(\"end\") - pl.col(\"start\") != 1)\n",
    ")\n",
    "print(start_end_diff)"
   ]
  },
  {
   "cell_type": "markdown",
   "metadata": {},
   "source": [
    "This ouput means that the difference between end and start is always equal to 1.\n",
    "This means that there are no faulty positions.\n",
    "\n",
    "I would like to see if there are any major differences between the different groups and the amount of methylated DNA."
   ]
  },
  {
   "cell_type": "code",
   "execution_count": 9,
   "metadata": {},
   "outputs": [
    {
     "name": "stdout",
     "output_type": "stream",
     "text": [
      "shape: (5, 2)\n",
      "┌──────────────────────┬────────────────┐\n",
      "│ group_name           ┆ n methylations │\n",
      "│ ---                  ┆ ---            │\n",
      "│ str                  ┆ u32            │\n",
      "╞══════════════════════╪════════════════╡\n",
      "│ Jurkat_DMSO_control2 ┆ 2272843        │\n",
      "│ Healthy_control1     ┆ 14820163       │\n",
      "│ Jurkat_DMSO_control1 ┆ 2541070        │\n",
      "│ Jurkat_betuline2     ┆ 2654900        │\n",
      "│ Jurkat_betuline1     ┆ 1994070        │\n",
      "└──────────────────────┴────────────────┘\n"
     ]
    }
   ],
   "source": [
    "df_n_methylation: pl.DataFrame = (\n",
    "    df\n",
    "    .select(\"group_name\")\n",
    "    .group_by(\"group_name\")\n",
    "    .agg([pl.len().alias(\"n methylations\")])\n",
    ")\n",
    "print(df_n_methylation.head())"
   ]
  },
  {
   "cell_type": "markdown",
   "metadata": {},
   "source": [
    "This table holds the total amount of methylations.\n",
    "Visualising this table would make it easier to see any possible differences."
   ]
  },
  {
   "cell_type": "code",
   "execution_count": 10,
   "metadata": {},
   "outputs": [
    {
     "data": {
      "image/png": "[encoded data removed]",
      "text/plain": [
       "<Figure size 640x480 with 1 Axes>"
      ]
     },
     "metadata": {},
     "output_type": "display_data"
    }
   ],
   "source": [
    "sns.barplot(data = df_n_methylation,\n",
    "            y = \"group_name\", x = \"n methylations\",\n",
    "            hue=\"group_name\", palette=\"Set2\",).set(\n",
    "                title=\"Amount of methylations for all groups\",\n",
    "                xlabel=\"Amount of methylations\", ylabel = \"Group name\")\n",
    "plt.show()"
   ]
  },
  {
   "cell_type": "markdown",
   "metadata": {},
   "source": [
    "This plot visualises the amount of methylations for every group that is part of the experiment.\n",
    "The x-axis holds the number of methylations, while the y-axis holds the name of the group that the number belongs to.\n",
    "\n",
    "This plot clearly showcases that the healthy control group has way more methylations then the other groups.\n",
    "This implies that the other groups might have some sort of effect on the methylation.\n",
    "It is unclear if this is the betuline, the DMSO control group also appears to impact the methylation.\n",
    "\n",
    "I could possibly zoom more into to other groups, to visualise the differences between the treated groups."
   ]
  },
  {
   "cell_type": "code",
   "execution_count": 11,
   "metadata": {},
   "outputs": [
    {
     "data": {
      "image/png": "[encoded data removed]",
      "text/plain": [
       "<Figure size 640x480 with 1 Axes>"
      ]
     },
     "metadata": {},
     "output_type": "display_data"
    }
   ],
   "source": [
    "sns.barplot(data = df_n_methylation.filter(pl.col(\"group_name\") != \"Healthy_control1\"),\n",
    "            y = \"group_name\", x = \"n methylations\",\n",
    "            hue=\"group_name\", palette=\"Set2\",).set(\n",
    "                title=\"Amount of methylations for all treated groups\",\n",
    "                xlabel=\"Amount of methylations\", ylabel = \"Group name\")\n",
    "plt.show()"
   ]
  },
  {
   "cell_type": "markdown",
   "metadata": {},
   "source": [
    "This plot visualises the amount of methylations for every group that is part of the experiment.\n",
    "The x-axis holds the number of methylations, while the y-axis holds the name of the group that the number belongs to.\n",
    "\n",
    "This visualises that there does not appear to be a pattern between and inside of groups.\n",
    "To make data selection i need to do the following:\n",
    "- Give the given bedfile gene symbols to easier look for specific genes\n",
    "\n",
    "I will clean the bedfile first, it is very inconsistant with tabs and spaces.\n",
    "\n",
    "## <a id='toc1_4_'></a>[BED file annotation](#toc0_)\n",
    "### <a id='toc1_4_1_'></a>[26-11-2024](#toc0_)"
   ]
  },
  {
   "cell_type": "code",
   "execution_count": 12,
   "metadata": {},
   "outputs": [],
   "source": [
    "path_bed = \"/commons/Themas/Thema06/Methylatie/RRMS_human_hg38.bed\"\n",
    "file_cleaned = []\n",
    "with open(path_bed, 'r') as bed_file:\n",
    "    for line in bed_file:\n",
    "        replaced_line = re.sub(r\"\\s+\", \"\\t\", line.strip())\n",
    "\n",
    "        file_cleaned.append(replaced_line)\n",
    "with open(\"../data/new_bed_file.bed\", \"w\") as new_bed:\n",
    "    new_bed.write(\"chr\\tstart\\tend\\n\")\n",
    "    new_bed.write(\"\\n\".join(file_cleaned))"
   ]
  },
  {
   "cell_type": "code",
   "execution_count": 67,
   "metadata": {},
   "outputs": [
    {
     "name": "stdout",
     "output_type": "stream",
     "text": [
      "shape: (18_064, 3)\n",
      "┌──────┬──────────┬──────────┐\n",
      "│ chr  ┆ start    ┆ end      │\n",
      "│ ---  ┆ ---      ┆ ---      │\n",
      "│ str  ┆ i64      ┆ i64      │\n",
      "╞══════╪══════════╪══════════╡\n",
      "│ chr1 ┆ 24735    ┆ 33737    │\n",
      "│ chr1 ┆ 131124   ┆ 139563   │\n",
      "│ chr1 ┆ 195251   ┆ 204121   │\n",
      "│ chr1 ┆ 364792   ┆ 386185   │\n",
      "│ chr1 ┆ 487107   ┆ 495546   │\n",
      "│ …    ┆ …        ┆ …        │\n",
      "│ chrY ┆ 25460370 ┆ 25468941 │\n",
      "│ chrY ┆ 26405388 ┆ 26413785 │\n",
      "│ chrY ┆ 26623168 ┆ 26631397 │\n",
      "│ chrY ┆ 57063645 ┆ 57072034 │\n",
      "│ chrY ┆ 57199115 ┆ 57207423 │\n",
      "└──────┴──────────┴──────────┘\n"
     ]
    }
   ],
   "source": [
    "\n",
    "bed_df = pl.from_pandas(pd.read_csv(\"../data/new_bed_file.bed\", sep=\"\\t\"))\n",
    "print(bed_df)"
   ]
  },
  {
   "cell_type": "code",
   "execution_count": 68,
   "metadata": {},
   "outputs": [
    {
     "name": "stdout",
     "output_type": "stream",
     "text": [
      "shape: (5, 4)\n",
      "┌─────┬───────┬──────┬───────────┐\n",
      "│ chr ┆ start ┆ end  ┆ gene_name │\n",
      "│ --- ┆ ---   ┆ ---  ┆ ---       │\n",
      "│ str ┆ i64   ┆ i64  ┆ str       │\n",
      "╞═════╪═══════╪══════╪═══════════╡\n",
      "│ MT  ┆ 577   ┆ 647  ┆ MT-TF     │\n",
      "│ MT  ┆ 648   ┆ 1601 ┆ MT-RNR1   │\n",
      "│ MT  ┆ 1602  ┆ 1670 ┆ MT-TV     │\n",
      "│ MT  ┆ 1671  ┆ 3229 ┆ MT-RNR2   │\n",
      "│ MT  ┆ 3230  ┆ 3304 ┆ MT-TL1    │\n",
      "└─────┴───────┴──────┴───────────┘\n"
     ]
    }
   ],
   "source": [
    "biomart_bed = pl.from_pandas(pd.read_csv(\"/homes/rreilman/Downloads/mart_export.txt\", low_memory=False))\n",
    "biomart_bed = biomart_bed.select([\"Chromosome/scaffold name\", \"Gene start (bp)\", \"Gene end (bp)\", \"Gene name\"])\n",
    "biomart_bed = biomart_bed.rename({\n",
    "    \"Chromosome/scaffold name\": \"chr\",\n",
    "    \"Gene start (bp)\": \"start\",\n",
    "    \"Gene end (bp)\": \"end\",\n",
    "    \"Gene name\": \"gene_name\"\n",
    "})\n",
    "biomart_bed = biomart_bed.with_columns(\n",
    "    pl.col(\"gene_name\").fill_null(\"unknown gene\")\n",
    ")\n",
    "print(biomart_bed.head())"
   ]
  },
  {
   "cell_type": "code",
   "execution_count": 69,
   "metadata": {},
   "outputs": [],
   "source": [
    "\n",
    "def annotate_bed(bed_df: pl.DataFrame, annotate_df: pl.DataFrame):\n",
    "    new_df = []\n",
    "    for promoter in bed_df.iter_rows():\n",
    "        chr_promoter, start_promoter, end_promoter = promoter\n",
    "\n",
    "        overlaps = (annotate_df\n",
    "                    .filter(\n",
    "                        (pl.col(\"chr\") == chr_promoter.replace(\"chr\", \"\")) &\n",
    "                        (pl.col(\"start\") <= end_promoter) &\n",
    "                        (pl.col(\"end\") >= start_promoter)\n",
    "                        )\n",
    "                    )\n",
    "        if not overlaps.is_empty():\n",
    "            for gene in overlaps[\"gene_name\"].to_list():\n",
    "                new_df.append({\"chr\":chr_promoter,\n",
    "                           \"start\":start_promoter,\n",
    "                           \"end\":end_promoter,\n",
    "                          \"gene_name\":gene})\n",
    "\n",
    "        else:\n",
    "            new_df.append({\"chr\":chr_promoter,\n",
    "                           \"start\":start_promoter,\n",
    "                           \"end\":end_promoter,\n",
    "                          \"gene_name\":\"Unknown gene\"})\n",
    "            \n",
    "    \n",
    "    \n",
    "    return pl.DataFrame(new_df)\n",
    "#bed_new_df = annotate_bed(bed_df, biomart_bed)\n"
   ]
  },
  {
   "cell_type": "markdown",
   "metadata": {},
   "source": [
    "The bed file should now contain the promotor locations with fitting genes.\n",
    "Lets test this by searching for a gene the students used for their research"
   ]
  },
  {
   "cell_type": "code",
   "execution_count": 70,
   "metadata": {},
   "outputs": [],
   "source": [
    "#print(bed_new_df.filter(pl.col(\"gene_name\").list.contains(\"CDK1\")))"
   ]
  },
  {
   "cell_type": "markdown",
   "metadata": {},
   "source": [
    "This result shows that there is no CDK1 found in the promoter bed file, which is false considering the students used it.\n",
    "Martijn told me about annotation from GBFF file, im going to look into that.\n",
    "\n",
    "## <a id='toc1_5_'></a>[28-11-2024](#toc0_)\n",
    "i'm going to look at annotating my bed file via a GBFF file from NCBI.\n",
    "\n"
   ]
  },
  {
   "cell_type": "code",
   "execution_count": 71,
   "metadata": {},
   "outputs": [
    {
     "name": "stdout",
     "output_type": "stream",
     "text": [
      "shape: (1, 4)\n",
      "┌──────────────┬──────────┬──────────┬───────────┐\n",
      "│ chr          ┆ start    ┆ end      ┆ gene_name │\n",
      "│ ---          ┆ ---      ┆ ---      ┆ ---       │\n",
      "│ str          ┆ i64      ┆ i64      ┆ str       │\n",
      "╞══════════════╪══════════╪══════════╪═══════════╡\n",
      "│ NC_000010.11 ┆ 60771975 ┆ 60794852 ┆ CDK1      │\n",
      "└──────────────┴──────────┴──────────┴───────────┘\n"
     ]
    }
   ],
   "source": [
    "gbff_file = \"/homes/rreilman/jaar2/ncbi_dataset/data/GCF_000001405.26/genomic.gbff\"\n",
    "gene_information = []\n",
    "for record in SeqIO.parse(gbff_file, \"genbank\"):\n",
    "    chr_name = record.id\n",
    "    for feature in record.features:\n",
    "        if feature.type == \"gene\":\n",
    "            start = int(feature.location.start)\n",
    "            end = int(feature.location.end)\n",
    "            gene_name = feature.qualifiers.get(\"gene\", [\"Unknown\"])[0]\n",
    "            gene_information.append({\"chr\": chr_name,\n",
    "                                     \"start\":max(0, start-1000),\n",
    "                                     \"end\":end,\n",
    "                                     \"gene_name\":gene_name})\n",
    "gbff_gene_df = pl.DataFrame(gene_information)\n",
    "print(gbff_gene_df.filter(pl.col(\"gene_name\") == \"CDK1\"))"
   ]
  },
  {
   "cell_type": "markdown",
   "metadata": {},
   "source": [
    "This df contains the chr start end and name of every gene in the GBFF file\n",
    "The chromosome naming convention does not match the way our bed file is made (chr*) so i will have to change that."
   ]
  },
  {
   "cell_type": "code",
   "execution_count": 72,
   "metadata": {},
   "outputs": [
    {
     "name": "stdout",
     "output_type": "stream",
     "text": [
      "shape: (455, 2)\n",
      "┌──────────────────────┬─────────────────┐\n",
      "│ RefSeq seq accession ┆ Chromosome name │\n",
      "│ ---                  ┆ ---             │\n",
      "│ str                  ┆ str             │\n",
      "╞══════════════════════╪═════════════════╡\n",
      "│ NC_000001.11         ┆ 1               │\n",
      "│ NC_000002.12         ┆ 2               │\n",
      "│ NC_000003.12         ┆ 3               │\n",
      "│ NC_000004.12         ┆ 4               │\n",
      "│ NC_000005.10         ┆ 5               │\n",
      "│ …                    ┆ …               │\n",
      "│ NT_187685.1          ┆ 19              │\n",
      "│ NT_187686.1          ┆ 19              │\n",
      "│ NT_187687.1          ┆ 19              │\n",
      "│ NT_113949.2          ┆ 19              │\n",
      "│ NC_012920.1          ┆ MT              │\n",
      "└──────────────────────┴─────────────────┘\n"
     ]
    }
   ],
   "source": [
    "chrome_mapping = pl.from_pandas(pd.read_csv(\"/homes/rreilman/jaar2/chromosome_mapping.csv\", delimiter=\"\\t\"))\n",
    "print(chrome_mapping)"
   ]
  },
  {
   "cell_type": "markdown",
   "metadata": {},
   "source": [
    "This df contains the NCBI naming convention and the way i have named my chromosomes.\n"
   ]
  },
  {
   "cell_type": "code",
   "execution_count": 73,
   "metadata": {},
   "outputs": [
    {
     "name": "stdout",
     "output_type": "stream",
     "text": [
      "shape: (1, 4)\n",
      "┌─────┬──────────┬──────────┬───────────┐\n",
      "│ chr ┆ start    ┆ end      ┆ gene_name │\n",
      "│ --- ┆ ---      ┆ ---      ┆ ---       │\n",
      "│ str ┆ i64      ┆ i64      ┆ str       │\n",
      "╞═════╪══════════╪══════════╪═══════════╡\n",
      "│ 10  ┆ 60771975 ┆ 60794852 ┆ CDK1      │\n",
      "└─────┴──────────┴──────────┴───────────┘\n"
     ]
    }
   ],
   "source": [
    "gbff_gene_df_updated = gbff_gene_df.join(chrome_mapping, left_on=\"chr\", right_on=\"RefSeq seq accession\", how=\"left\")\n",
    "gbff_gene_df_updated = gbff_gene_df_updated.with_columns(\n",
    "    pl.when(pl.col(\"Chromosome name\").is_not_null())\n",
    "    .then(pl.col(\"Chromosome name\"))\n",
    "    .otherwise(pl.col(\"chr\"))\n",
    "    .alias(\"chr\")\n",
    ").select([\"chr\", \"start\", \"end\", \"gene_name\"])\n",
    "print(gbff_gene_df_updated.filter(pl.col(\"gene_name\") == \"CDK1\"))"
   ]
  },
  {
   "cell_type": "markdown",
   "metadata": {},
   "source": [
    "This dataframe now used our naming convention, instead of NCBI chromosome naming convention.\n",
    "The next step is to annotate out bed dataframe."
   ]
  },
  {
   "cell_type": "code",
   "execution_count": 74,
   "metadata": {},
   "outputs": [
    {
     "name": "stdout",
     "output_type": "stream",
     "text": [
      "shape: (30_675, 4)\n",
      "┌──────┬──────────┬──────────┬──────────────┐\n",
      "│ chr  ┆ start    ┆ end      ┆ gene_name    │\n",
      "│ ---  ┆ ---      ┆ ---      ┆ ---          │\n",
      "│ str  ┆ i64      ┆ i64      ┆ str          │\n",
      "╞══════╪══════════╪══════════╪══════════════╡\n",
      "│ chr1 ┆ 24735    ┆ 33737    ┆ WASH7P       │\n",
      "│ chr1 ┆ 24735    ┆ 33737    ┆ MIR1302-2    │\n",
      "│ chr1 ┆ 24735    ┆ 33737    ┆ FAM138A      │\n",
      "│ chr1 ┆ 24735    ┆ 33737    ┆ LOC102724250 │\n",
      "│ chr1 ┆ 24735    ┆ 33737    ┆ TRNAN-GUU    │\n",
      "│ …    ┆ …        ┆ …        ┆ …            │\n",
      "│ chrY ┆ 26405388 ┆ 26413785 ┆ ANKRD36P1    │\n",
      "│ chrY ┆ 26623168 ┆ 26631397 ┆ PARP4P1      │\n",
      "│ chrY ┆ 26623168 ┆ 26631397 ┆ FAM58CP      │\n",
      "│ chrY ┆ 57063645 ┆ 57072034 ┆ VAMP7        │\n",
      "│ chrY ┆ 57199115 ┆ 57207423 ┆ WASH6P       │\n",
      "└──────┴──────────┴──────────┴──────────────┘\n"
     ]
    }
   ],
   "source": [
    "annotated_bed_file = annotate_bed(bed_df, gbff_gene_df_updated)\n",
    "print(annotated_bed_file)"
   ]
  },
  {
   "cell_type": "markdown",
   "metadata": {},
   "source": [
    "I will now create the same barplot as before, to check if the result is the same."
   ]
  },
  {
   "cell_type": "code",
   "execution_count": 75,
   "metadata": {},
   "outputs": [
    {
     "name": "stdout",
     "output_type": "stream",
     "text": [
      "shape: (1, 4)\n",
      "┌───────┬──────────┬──────────┬───────────┐\n",
      "│ chr   ┆ start    ┆ end      ┆ gene_name │\n",
      "│ ---   ┆ ---      ┆ ---      ┆ ---       │\n",
      "│ str   ┆ i64      ┆ i64      ┆ str       │\n",
      "╞═══════╪══════════╪══════════╪═══════════╡\n",
      "│ chr10 ┆ 60774212 ┆ 60783104 ┆ CDK1      │\n",
      "└───────┴──────────┴──────────┴───────────┘\n"
     ]
    }
   ],
   "source": [
    "def get_gene_info(genes_list: list[str], annotated_bed_df):\n",
    "    df_wanted = (annotated_bed_df\n",
    "                 .filter(pl.col(\"gene_name\").is_in(genes_list)))\n",
    "    return df_wanted\n",
    "df_cdk1 = get_gene_info([\"CDK1\"], annotated_bed_file)\n",
    "print(df_cdk1)\n"
   ]
  },
  {
   "cell_type": "markdown",
   "metadata": {},
   "source": [
    "This dataframe contains the promoter areas for the CDK1 gene.\n",
    "I will use these to filter the df with the methylation data. And create a barplot"
   ]
  },
  {
   "cell_type": "code",
   "execution_count": 76,
   "metadata": {},
   "outputs": [
    {
     "name": "stdout",
     "output_type": "stream",
     "text": [
      "shape: (248, 6)\n",
      "┌───────┬──────────┬──────────┬──────┬───────┬──────────────────┐\n",
      "│ chr   ┆ start    ┆ end      ┆ frac ┆ valid ┆ group_name       │\n",
      "│ ---   ┆ ---      ┆ ---      ┆ ---  ┆ ---   ┆ ---              │\n",
      "│ str   ┆ i64      ┆ i64      ┆ f64  ┆ i64   ┆ str              │\n",
      "╞═══════╪══════════╪══════════╪══════╪═══════╪══════════════════╡\n",
      "│ chr10 ┆ 60774589 ┆ 60774590 ┆ 1.0  ┆ 1     ┆ Jurkat_betuline2 │\n",
      "│ chr10 ┆ 60774731 ┆ 60774732 ┆ 1.0  ┆ 1     ┆ Jurkat_betuline2 │\n",
      "│ chr10 ┆ 60775086 ┆ 60775087 ┆ 1.0  ┆ 1     ┆ Jurkat_betuline2 │\n",
      "│ chr10 ┆ 60775117 ┆ 60775118 ┆ 1.0  ┆ 1     ┆ Jurkat_betuline2 │\n",
      "│ chr10 ┆ 60775225 ┆ 60775226 ┆ 1.0  ┆ 1     ┆ Jurkat_betuline2 │\n",
      "│ …     ┆ …        ┆ …        ┆ …    ┆ …     ┆ …                │\n",
      "│ chr10 ┆ 60780807 ┆ 60780808 ┆ 1.0  ┆ 2     ┆ Healthy_control1 │\n",
      "│ chr10 ┆ 60780818 ┆ 60780819 ┆ 1.0  ┆ 2     ┆ Healthy_control1 │\n",
      "│ chr10 ┆ 60781020 ┆ 60781021 ┆ 1.0  ┆ 3     ┆ Healthy_control1 │\n",
      "│ chr10 ┆ 60781482 ┆ 60781483 ┆ 1.0  ┆ 4     ┆ Healthy_control1 │\n",
      "│ chr10 ┆ 60781532 ┆ 60781533 ┆ 1.0  ┆ 6     ┆ Healthy_control1 │\n",
      "└───────┴──────────┴──────────┴──────┴───────┴──────────────────┘\n",
      "shape: (5, 2)\n",
      "┌──────────────────────┬────────────────┐\n",
      "│ group_name           ┆ n methylations │\n",
      "│ ---                  ┆ ---            │\n",
      "│ str                  ┆ u32            │\n",
      "╞══════════════════════╪════════════════╡\n",
      "│ Jurkat_DMSO_control2 ┆ 0              │\n",
      "│ Jurkat_DMSO_control1 ┆ 0              │\n",
      "│ Jurkat_betuline2     ┆ 123            │\n",
      "│ Jurkat_betuline1     ┆ 0              │\n",
      "│ Healthy_control1     ┆ 125            │\n",
      "└──────────────────────┴────────────────┘\n"
     ]
    },
    {
     "data": {
      "image/png": "[encoded data removed]",
      "text/plain": [
       "<Figure size 640x480 with 1 Axes>"
      ]
     },
     "metadata": {},
     "output_type": "display_data"
    }
   ],
   "source": [
    "methylation_cdk1 = (df\n",
    "                    .filter((pl.col(\"chr\").is_in(df_cdk1.select(\"chr\"))) &\n",
    "                            (pl.col(\"start\") >= df_cdk1.select(\"start\").to_numpy()[0]) &\n",
    "                            (pl.col(\"end\") <= df_cdk1.select(\"end\").to_numpy()[0])))\n",
    "print(methylation_cdk1)\n",
    "\n",
    "\n",
    "\n",
    "test_agg2: pl.DataFrame = (\n",
    "    methylation_cdk1\n",
    "    .select([\"group_name\", \"frac\"])\n",
    "    .group_by(\"group_name\")\n",
    "    .agg([pl.len().alias(\"n methylations\")])\n",
    "    .join(all_groups, on=\"group_name\", how=\"full\")\n",
    "    .with_columns(pl.col(\"group_name\").fill_null(pl.col(\"group_name_right\")))\n",
    "    .drop(\"group_name_right\") \n",
    "    .fill_null(0)\n",
    ")\n",
    "print(test_agg2.head())\n",
    "\n",
    "sns.barplot(data = test_agg2.sort(\"n methylations\", descending=True),\n",
    "            y = \"group_name\", x = \"n methylations\",\n",
    "            hue=\"group_name\", palette=\"Set2\")\n",
    "plt.show()"
   ]
  },
  {
   "cell_type": "markdown",
   "metadata": {},
   "source": [
    "This outputs a similar result to the first barplot\n",
    "The only difference is that the annotation added an extra promoter area that has been connected to the CDK1 gene.\n",
    "This is usable for now, but i'll have to ask Martijn if it is correct.\n",
    "The next steps will be cleaning up a bit of my code.\n",
    "\n",
    "The way the main df is being filtered is currently incorrect, i will have to create a function for this to make it more usable"
   ]
  },
  {
   "cell_type": "markdown",
   "metadata": {},
   "source": [
    "### <a id='toc1_5_1_'></a>[03-12-2024](#toc0_)\n",
    "I noticed that i copied code to select dataa, i am going to create a function for this, so that it'll be easier.\n",
    "This function will take a filtered promoter_bed_df with annotated gene named, filtered on the genes of interest. The function uses that dataframe to find all methylation data in those promoter regions.\n",
    "\n"
   ]
  },
  {
   "cell_type": "code",
   "execution_count": 77,
   "metadata": {},
   "outputs": [
    {
     "name": "stdout",
     "output_type": "stream",
     "text": [
      "shape: (5, 6)\n",
      "┌───────┬──────────┬──────────┬──────┬───────┬──────────────────┐\n",
      "│ chr   ┆ start    ┆ end      ┆ frac ┆ valid ┆ group_name       │\n",
      "│ ---   ┆ ---      ┆ ---      ┆ ---  ┆ ---   ┆ ---              │\n",
      "│ str   ┆ i64      ┆ i64      ┆ f64  ┆ i64   ┆ str              │\n",
      "╞═══════╪══════════╪══════════╪══════╪═══════╪══════════════════╡\n",
      "│ chr10 ┆ 60774589 ┆ 60774590 ┆ 1.0  ┆ 1     ┆ Jurkat_betuline2 │\n",
      "│ chr10 ┆ 60774731 ┆ 60774732 ┆ 1.0  ┆ 1     ┆ Jurkat_betuline2 │\n",
      "│ chr10 ┆ 60775086 ┆ 60775087 ┆ 1.0  ┆ 1     ┆ Jurkat_betuline2 │\n",
      "│ chr10 ┆ 60775117 ┆ 60775118 ┆ 1.0  ┆ 1     ┆ Jurkat_betuline2 │\n",
      "│ chr10 ┆ 60775225 ┆ 60775226 ┆ 1.0  ┆ 1     ┆ Jurkat_betuline2 │\n",
      "└───────┴──────────┴──────────┴──────┴───────┴──────────────────┘\n"
     ]
    }
   ],
   "source": [
    "def filter_data_from_bed(main_df, promoter_df):\n",
    "    final_subsetted_df: pd.DataFrame = pl.DataFrame(\n",
    "        {\"chr\":[],\n",
    "         \"start\":[],\n",
    "         \"end\":[],\n",
    "         \"frac\":[],\n",
    "         \"valid\":[],\n",
    "         \"group_name\":[]}\n",
    "    )\n",
    "    for row in promoter_df.iter_rows():\n",
    "        (chromosome, promoter_start, promoter_end, gene_name) = row\n",
    "        subsetted_df = main_df.filter(\n",
    "            (pl.col(\"chr\") == chromosome) &\n",
    "            (pl.col(\"start\") >= promoter_start) &\n",
    "            (pl.col(\"end\") <= promoter_end)\n",
    "        )\n",
    "        final_subsetted_df = pl.concat([subsetted_df, final_subsetted_df])\n",
    "        \n",
    "    return final_subsetted_df\n",
    "cdk1_test_df = filter_data_from_bed(df, df_cdk1)\n",
    "print(cdk1_test_df.head())\n"
   ]
  },
  {
   "cell_type": "markdown",
   "metadata": {},
   "source": [
    "### <a id='toc1_5_2_'></a>[04-12-2024](#toc0_)\n",
    "To see if this works, i will create a function that can count the amount of methylation data."
   ]
  },
  {
   "cell_type": "code",
   "execution_count": 80,
   "metadata": {},
   "outputs": [
    {
     "data": {
      "text/html": [
       "<div><style>\n",
       ".dataframe > thead > tr,\n",
       ".dataframe > tbody > tr {\n",
       "  text-align: right;\n",
       "  white-space: pre-wrap;\n",
       "}\n",
       "</style>\n",
       "<small>shape: (5, 2)</small><table border=\"1\" class=\"dataframe\"><thead><tr><th>group_name</th><th>n methylations</th></tr><tr><td>str</td><td>u32</td></tr></thead><tbody><tr><td>&quot;Jurkat_DMSO_control2&quot;</td><td>0</td></tr><tr><td>&quot;Jurkat_DMSO_control1&quot;</td><td>0</td></tr><tr><td>&quot;Jurkat_betuline2&quot;</td><td>123</td></tr><tr><td>&quot;Jurkat_betuline1&quot;</td><td>0</td></tr><tr><td>&quot;Healthy_control1&quot;</td><td>125</td></tr></tbody></table></div>"
      ],
      "text/plain": [
       "shape: (5, 2)\n",
       "┌──────────────────────┬────────────────┐\n",
       "│ group_name           ┆ n methylations │\n",
       "│ ---                  ┆ ---            │\n",
       "│ str                  ┆ u32            │\n",
       "╞══════════════════════╪════════════════╡\n",
       "│ Jurkat_DMSO_control2 ┆ 0              │\n",
       "│ Jurkat_DMSO_control1 ┆ 0              │\n",
       "│ Jurkat_betuline2     ┆ 123            │\n",
       "│ Jurkat_betuline1     ┆ 0              │\n",
       "│ Healthy_control1     ┆ 125            │\n",
       "└──────────────────────┴────────────────┘"
      ]
     },
     "execution_count": 80,
     "metadata": {},
     "output_type": "execute_result"
    }
   ],
   "source": [
    "def count_methylation_data(main_df):\n",
    "    return (main_df\n",
    "    .select([\"group_name\", \"frac\"])\n",
    "    .group_by(\"group_name\")\n",
    "    .agg([pl.len().alias(\"n methylations\")])\n",
    "    .join(all_groups, on=\"group_name\", how=\"full\")\n",
    "    .with_columns(pl.col(\"group_name\").fill_null(pl.col(\"group_name_right\")))\n",
    "    .drop(\"group_name_right\") \n",
    "    .fill_null(0)\n",
    ")\n",
    "    \n",
    "cdk1_count_data = count_methylation_data(cdk1_test_df)\n",
    "cdk1_count_data"
   ]
  },
  {
   "cell_type": "markdown",
   "metadata": {},
   "source": [
    "This table can be used as data for barplot, to showcase how many methylations every group has for the selected gene(s).\n",
    "I'm going to create a function that will plot this data into a bar plot"
   ]
  },
  {
   "cell_type": "code",
   "execution_count": 79,
   "metadata": {},
   "outputs": [
    {
     "data": {
      "image/png": "[encoded data removed]",
      "text/plain": [
       "<Figure size 640x480 with 1 Axes>"
      ]
     },
     "metadata": {},
     "output_type": "display_data"
    }
   ],
   "source": [
    "def code_count_data(data_df):\n",
    "    sns.barplot(data = data_df.sort(\"n methylations\", descending=True),\n",
    "            y = \"group_name\", x = \"n methylations\",\n",
    "            hue=\"group_name\", palette=\"Set2\")\n",
    "    plt.show()\n",
    "code_count_data(cdk1_count_data)"
   ]
  },
  {
   "cell_type": "markdown",
   "metadata": {},
   "source": [
    "What this showcases is that there were multiple promoter sites found for the CDK1, sites that possibly weren't found by Martijn."
   ]
  },
  {
   "cell_type": "code",
   "execution_count": 86,
   "metadata": {},
   "outputs": [
    {
     "data": {
      "application/vnd.plotly.v1+json": {
       "config": {
        "plotlyServerURL": "https://plot.ly"
       },
       "data": [
        {
         "alignmentgroup": "True",
         "hovertemplate": "group_name=%{x}<br>n methylations=%{y}<extra></extra>",
         "legendgroup": "Jurkat_DMSO_control2",
         "marker": {
          "color": "#636efa",
          "pattern": {
           "shape": ""
          }
         },
         "name": "Jurkat_DMSO_control2",
         "offsetgroup": "Jurkat_DMSO_control2",
         "orientation": "v",
         "showlegend": true,
         "textposition": "auto",
         "type": "bar",
         "x": [
          "Jurkat_DMSO_control2"
         ],
         "xaxis": "x",
         "y": [
          0
         ],
         "yaxis": "y"
        },
        {
         "alignmentgroup": "True",
         "hovertemplate": "group_name=%{x}<br>n methylations=%{y}<extra></extra>",
         "legendgroup": "Jurkat_DMSO_control1",
         "marker": {
          "color": "#EF553B",
          "pattern": {
           "shape": ""
          }
         },
         "name": "Jurkat_DMSO_control1",
         "offsetgroup": "Jurkat_DMSO_control1",
         "orientation": "v",
         "showlegend": true,
         "textposition": "auto",
         "type": "bar",
         "x": [
          "Jurkat_DMSO_control1"
         ],
         "xaxis": "x",
         "y": [
          0
         ],
         "yaxis": "y"
        },
        {
         "alignmentgroup": "True",
         "hovertemplate": "group_name=%{x}<br>n methylations=%{y}<extra></extra>",
         "legendgroup": "Jurkat_betuline2",
         "marker": {
          "color": "#00cc96",
          "pattern": {
           "shape": ""
          }
         },
         "name": "Jurkat_betuline2",
         "offsetgroup": "Jurkat_betuline2",
         "orientation": "v",
         "showlegend": true,
         "textposition": "auto",
         "type": "bar",
         "x": [
          "Jurkat_betuline2"
         ],
         "xaxis": "x",
         "y": [
          123
         ],
         "yaxis": "y"
        },
        {
         "alignmentgroup": "True",
         "hovertemplate": "group_name=%{x}<br>n methylations=%{y}<extra></extra>",
         "legendgroup": "Jurkat_betuline1",
         "marker": {
          "color": "#ab63fa",
          "pattern": {
           "shape": ""
          }
         },
         "name": "Jurkat_betuline1",
         "offsetgroup": "Jurkat_betuline1",
         "orientation": "v",
         "showlegend": true,
         "textposition": "auto",
         "type": "bar",
         "x": [
          "Jurkat_betuline1"
         ],
         "xaxis": "x",
         "y": [
          0
         ],
         "yaxis": "y"
        },
        {
         "alignmentgroup": "True",
         "hovertemplate": "group_name=%{x}<br>n methylations=%{y}<extra></extra>",
         "legendgroup": "Healthy_control1",
         "marker": {
          "color": "#FFA15A",
          "pattern": {
           "shape": ""
          }
         },
         "name": "Healthy_control1",
         "offsetgroup": "Healthy_control1",
         "orientation": "v",
         "showlegend": true,
         "textposition": "auto",
         "type": "bar",
         "x": [
          "Healthy_control1"
         ],
         "xaxis": "x",
         "y": [
          125
         ],
         "yaxis": "y"
        }
       ],
       "layout": {
        "barmode": "relative",
        "legend": {
         "title": {
          "text": "group_name"
         },
         "tracegroupgap": 0
        },
        "template": {
         "data": {
          "bar": [
           {
            "error_x": {
             "color": "#2a3f5f"
            },
            "error_y": {
             "color": "#2a3f5f"
            },
            "marker": {
             "line": {
              "color": "#E5ECF6",
              "width": 0.5
             },
             "pattern": {
              "fillmode": "overlay",
              "size": 10,
              "solidity": 0.2
             }
            },
            "type": "bar"
           }
          ],
          "barpolar": [
           {
            "marker": {
             "line": {
              "color": "#E5ECF6",
              "width": 0.5
             },
             "pattern": {
              "fillmode": "overlay",
              "size": 10,
              "solidity": 0.2
             }
            },
            "type": "barpolar"
           }
          ],
          "carpet": [
           {
            "aaxis": {
             "endlinecolor": "#2a3f5f",
             "gridcolor": "white",
             "linecolor": "white",
             "minorgridcolor": "white",
             "startlinecolor": "#2a3f5f"
            },
            "baxis": {
             "endlinecolor": "#2a3f5f",
             "gridcolor": "white",
             "linecolor": "white",
             "minorgridcolor": "white",
             "startlinecolor": "#2a3f5f"
            },
            "type": "carpet"
           }
          ],
          "choropleth": [
           {
            "colorbar": {
             "outlinewidth": 0,
             "ticks": ""
            },
            "type": "choropleth"
           }
          ],
          "contour": [
           {
            "colorbar": {
             "outlinewidth": 0,
             "ticks": ""
            },
            "colorscale": [
             [
              0,
              "#0d0887"
             ],
             [
              0.1111111111111111,
              "#46039f"
             ],
             [
              0.2222222222222222,
              "#7201a8"
             ],
             [
              0.3333333333333333,
              "#9c179e"
             ],
             [
              0.4444444444444444,
              "#bd3786"
             ],
             [
              0.5555555555555556,
              "#d8576b"
             ],
             [
              0.6666666666666666,
              "#ed7953"
             ],
             [
              0.7777777777777778,
              "#fb9f3a"
             ],
             [
              0.8888888888888888,
              "#fdca26"
             ],
             [
              1,
              "#f0f921"
             ]
            ],
            "type": "contour"
           }
          ],
          "contourcarpet": [
           {
            "colorbar": {
             "outlinewidth": 0,
             "ticks": ""
            },
            "type": "contourcarpet"
           }
          ],
          "heatmap": [
           {
            "colorbar": {
             "outlinewidth": 0,
             "ticks": ""
            },
            "colorscale": [
             [
              0,
              "#0d0887"
             ],
             [
              0.1111111111111111,
              "#46039f"
             ],
             [
              0.2222222222222222,
              "#7201a8"
             ],
             [
              0.3333333333333333,
              "#9c179e"
             ],
             [
              0.4444444444444444,
              "#bd3786"
             ],
             [
              0.5555555555555556,
              "#d8576b"
             ],
             [
              0.6666666666666666,
              "#ed7953"
             ],
             [
              0.7777777777777778,
              "#fb9f3a"
             ],
             [
              0.8888888888888888,
              "#fdca26"
             ],
             [
              1,
              "#f0f921"
             ]
            ],
            "type": "heatmap"
           }
          ],
          "heatmapgl": [
           {
            "colorbar": {
             "outlinewidth": 0,
             "ticks": ""
            },
            "colorscale": [
             [
              0,
              "#0d0887"
             ],
             [
              0.1111111111111111,
              "#46039f"
             ],
             [
              0.2222222222222222,
              "#7201a8"
             ],
             [
              0.3333333333333333,
              "#9c179e"
             ],
             [
              0.4444444444444444,
              "#bd3786"
             ],
             [
              0.5555555555555556,
              "#d8576b"
             ],
             [
              0.6666666666666666,
              "#ed7953"
             ],
             [
              0.7777777777777778,
              "#fb9f3a"
             ],
             [
              0.8888888888888888,
              "#fdca26"
             ],
             [
              1,
              "#f0f921"
             ]
            ],
            "type": "heatmapgl"
           }
          ],
          "histogram": [
           {
            "marker": {
             "pattern": {
              "fillmode": "overlay",
              "size": 10,
              "solidity": 0.2
             }
            },
            "type": "histogram"
           }
          ],
          "histogram2d": [
           {
            "colorbar": {
             "outlinewidth": 0,
             "ticks": ""
            },
            "colorscale": [
             [
              0,
              "#0d0887"
             ],
             [
              0.1111111111111111,
              "#46039f"
             ],
             [
              0.2222222222222222,
              "#7201a8"
             ],
             [
              0.3333333333333333,
              "#9c179e"
             ],
             [
              0.4444444444444444,
              "#bd3786"
             ],
             [
              0.5555555555555556,
              "#d8576b"
             ],
             [
              0.6666666666666666,
              "#ed7953"
             ],
             [
              0.7777777777777778,
              "#fb9f3a"
             ],
             [
              0.8888888888888888,
              "#fdca26"
             ],
             [
              1,
              "#f0f921"
             ]
            ],
            "type": "histogram2d"
           }
          ],
          "histogram2dcontour": [
           {
            "colorbar": {
             "outlinewidth": 0,
             "ticks": ""
            },
            "colorscale": [
             [
              0,
              "#0d0887"
             ],
             [
              0.1111111111111111,
              "#46039f"
             ],
             [
              0.2222222222222222,
              "#7201a8"
             ],
             [
              0.3333333333333333,
              "#9c179e"
             ],
             [
              0.4444444444444444,
              "#bd3786"
             ],
             [
              0.5555555555555556,
              "#d8576b"
             ],
             [
              0.6666666666666666,
              "#ed7953"
             ],
             [
              0.7777777777777778,
              "#fb9f3a"
             ],
             [
              0.8888888888888888,
              "#fdca26"
             ],
             [
              1,
              "#f0f921"
             ]
            ],
            "type": "histogram2dcontour"
           }
          ],
          "mesh3d": [
           {
            "colorbar": {
             "outlinewidth": 0,
             "ticks": ""
            },
            "type": "mesh3d"
           }
          ],
          "parcoords": [
           {
            "line": {
             "colorbar": {
              "outlinewidth": 0,
              "ticks": ""
             }
            },
            "type": "parcoords"
           }
          ],
          "pie": [
           {
            "automargin": true,
            "type": "pie"
           }
          ],
          "scatter": [
           {
            "fillpattern": {
             "fillmode": "overlay",
             "size": 10,
             "solidity": 0.2
            },
            "type": "scatter"
           }
          ],
          "scatter3d": [
           {
            "line": {
             "colorbar": {
              "outlinewidth": 0,
              "ticks": ""
             }
            },
            "marker": {
             "colorbar": {
              "outlinewidth": 0,
              "ticks": ""
             }
            },
            "type": "scatter3d"
           }
          ],
          "scattercarpet": [
           {
            "marker": {
             "colorbar": {
              "outlinewidth": 0,
              "ticks": ""
             }
            },
            "type": "scattercarpet"
           }
          ],
          "scattergeo": [
           {
            "marker": {
             "colorbar": {
              "outlinewidth": 0,
              "ticks": ""
             }
            },
            "type": "scattergeo"
           }
          ],
          "scattergl": [
           {
            "marker": {
             "colorbar": {
              "outlinewidth": 0,
              "ticks": ""
             }
            },
            "type": "scattergl"
           }
          ],
          "scattermapbox": [
           {
            "marker": {
             "colorbar": {
              "outlinewidth": 0,
              "ticks": ""
             }
            },
            "type": "scattermapbox"
           }
          ],
          "scatterpolar": [
           {
            "marker": {
             "colorbar": {
              "outlinewidth": 0,
              "ticks": ""
             }
            },
            "type": "scatterpolar"
           }
          ],
          "scatterpolargl": [
           {
            "marker": {
             "colorbar": {
              "outlinewidth": 0,
              "ticks": ""
             }
            },
            "type": "scatterpolargl"
           }
          ],
          "scatterternary": [
           {
            "marker": {
             "colorbar": {
              "outlinewidth": 0,
              "ticks": ""
             }
            },
            "type": "scatterternary"
           }
          ],
          "surface": [
           {
            "colorbar": {
             "outlinewidth": 0,
             "ticks": ""
            },
            "colorscale": [
             [
              0,
              "#0d0887"
             ],
             [
              0.1111111111111111,
              "#46039f"
             ],
             [
              0.2222222222222222,
              "#7201a8"
             ],
             [
              0.3333333333333333,
              "#9c179e"
             ],
             [
              0.4444444444444444,
              "#bd3786"
             ],
             [
              0.5555555555555556,
              "#d8576b"
             ],
             [
              0.6666666666666666,
              "#ed7953"
             ],
             [
              0.7777777777777778,
              "#fb9f3a"
             ],
             [
              0.8888888888888888,
              "#fdca26"
             ],
             [
              1,
              "#f0f921"
             ]
            ],
            "type": "surface"
           }
          ],
          "table": [
           {
            "cells": {
             "fill": {
              "color": "#EBF0F8"
             },
             "line": {
              "color": "white"
             }
            },
            "header": {
             "fill": {
              "color": "#C8D4E3"
             },
             "line": {
              "color": "white"
             }
            },
            "type": "table"
           }
          ]
         },
         "layout": {
          "annotationdefaults": {
           "arrowcolor": "#2a3f5f",
           "arrowhead": 0,
           "arrowwidth": 1
          },
          "autotypenumbers": "strict",
          "coloraxis": {
           "colorbar": {
            "outlinewidth": 0,
            "ticks": ""
           }
          },
          "colorscale": {
           "diverging": [
            [
             0,
             "#8e0152"
            ],
            [
             0.1,
             "#c51b7d"
            ],
            [
             0.2,
             "#de77ae"
            ],
            [
             0.3,
             "#f1b6da"
            ],
            [
             0.4,
             "#fde0ef"
            ],
            [
             0.5,
             "#f7f7f7"
            ],
            [
             0.6,
             "#e6f5d0"
            ],
            [
             0.7,
             "#b8e186"
            ],
            [
             0.8,
             "#7fbc41"
            ],
            [
             0.9,
             "#4d9221"
            ],
            [
             1,
             "#276419"
            ]
           ],
           "sequential": [
            [
             0,
             "#0d0887"
            ],
            [
             0.1111111111111111,
             "#46039f"
            ],
            [
             0.2222222222222222,
             "#7201a8"
            ],
            [
             0.3333333333333333,
             "#9c179e"
            ],
            [
             0.4444444444444444,
             "#bd3786"
            ],
            [
             0.5555555555555556,
             "#d8576b"
            ],
            [
             0.6666666666666666,
             "#ed7953"
            ],
            [
             0.7777777777777778,
             "#fb9f3a"
            ],
            [
             0.8888888888888888,
             "#fdca26"
            ],
            [
             1,
             "#f0f921"
            ]
           ],
           "sequentialminus": [
            [
             0,
             "#0d0887"
            ],
            [
             0.1111111111111111,
             "#46039f"
            ],
            [
             0.2222222222222222,
             "#7201a8"
            ],
            [
             0.3333333333333333,
             "#9c179e"
            ],
            [
             0.4444444444444444,
             "#bd3786"
            ],
            [
             0.5555555555555556,
             "#d8576b"
            ],
            [
             0.6666666666666666,
             "#ed7953"
            ],
            [
             0.7777777777777778,
             "#fb9f3a"
            ],
            [
             0.8888888888888888,
             "#fdca26"
            ],
            [
             1,
             "#f0f921"
            ]
           ]
          },
          "colorway": [
           "#636efa",
           "#EF553B",
           "#00cc96",
           "#ab63fa",
           "#FFA15A",
           "#19d3f3",
           "#FF6692",
           "#B6E880",
           "#FF97FF",
           "#FECB52"
          ],
          "font": {
           "color": "#2a3f5f"
          },
          "geo": {
           "bgcolor": "white",
           "lakecolor": "white",
           "landcolor": "#E5ECF6",
           "showlakes": true,
           "showland": true,
           "subunitcolor": "white"
          },
          "hoverlabel": {
           "align": "left"
          },
          "hovermode": "closest",
          "mapbox": {
           "style": "light"
          },
          "paper_bgcolor": "white",
          "plot_bgcolor": "#E5ECF6",
          "polar": {
           "angularaxis": {
            "gridcolor": "white",
            "linecolor": "white",
            "ticks": ""
           },
           "bgcolor": "#E5ECF6",
           "radialaxis": {
            "gridcolor": "white",
            "linecolor": "white",
            "ticks": ""
           }
          },
          "scene": {
           "xaxis": {
            "backgroundcolor": "#E5ECF6",
            "gridcolor": "white",
            "gridwidth": 2,
            "linecolor": "white",
            "showbackground": true,
            "ticks": "",
            "zerolinecolor": "white"
           },
           "yaxis": {
            "backgroundcolor": "#E5ECF6",
            "gridcolor": "white",
            "gridwidth": 2,
            "linecolor": "white",
            "showbackground": true,
            "ticks": "",
            "zerolinecolor": "white"
           },
           "zaxis": {
            "backgroundcolor": "#E5ECF6",
            "gridcolor": "white",
            "gridwidth": 2,
            "linecolor": "white",
            "showbackground": true,
            "ticks": "",
            "zerolinecolor": "white"
           }
          },
          "shapedefaults": {
           "line": {
            "color": "#2a3f5f"
           }
          },
          "ternary": {
           "aaxis": {
            "gridcolor": "white",
            "linecolor": "white",
            "ticks": ""
           },
           "baxis": {
            "gridcolor": "white",
            "linecolor": "white",
            "ticks": ""
           },
           "bgcolor": "#E5ECF6",
           "caxis": {
            "gridcolor": "white",
            "linecolor": "white",
            "ticks": ""
           }
          },
          "title": {
           "x": 0.05
          },
          "xaxis": {
           "automargin": true,
           "gridcolor": "white",
           "linecolor": "white",
           "ticks": "",
           "title": {
            "standoff": 15
           },
           "zerolinecolor": "white",
           "zerolinewidth": 2
          },
          "yaxis": {
           "automargin": true,
           "gridcolor": "white",
           "linecolor": "white",
           "ticks": "",
           "title": {
            "standoff": 15
           },
           "zerolinecolor": "white",
           "zerolinewidth": 2
          }
         }
        },
        "title": {
         "text": "Amount of methylations for the CDK1 gene"
        },
        "xaxis": {
         "anchor": "y",
         "categoryarray": [
          "Jurkat_DMSO_control2",
          "Jurkat_DMSO_control1",
          "Jurkat_betuline2",
          "Jurkat_betuline1",
          "Healthy_control1"
         ],
         "categoryorder": "array",
         "domain": [
          0,
          1
         ],
         "title": {
          "text": "group_name"
         }
        },
        "yaxis": {
         "anchor": "x",
         "domain": [
          0,
          1
         ],
         "title": {
          "text": "n methylations"
         }
        }
       }
      },
      "text/html": [
       "<div>                            <div id=\"7409b615-4ef8-4525-9fb3-d272bac6f2c8\" class=\"plotly-graph-div\" style=\"height:525px; width:100%;\"></div>            <script type=\"text/javascript\">                require([\"plotly\"], function(Plotly) {                    window.PLOTLYENV=window.PLOTLYENV || {};                                    if (document.getElementById(\"7409b615-4ef8-4525-9fb3-d272bac6f2c8\")) {                    Plotly.newPlot(                        \"7409b615-4ef8-4525-9fb3-d272bac6f2c8\",                        [{\"alignmentgroup\":\"True\",\"hovertemplate\":\"group_name=%{x}\\u003cbr\\u003en methylations=%{y}\\u003cextra\\u003e\\u003c\\u002fextra\\u003e\",\"legendgroup\":\"Jurkat_DMSO_control2\",\"marker\":{\"color\":\"#636efa\",\"pattern\":{\"shape\":\"\"}},\"name\":\"Jurkat_DMSO_control2\",\"offsetgroup\":\"Jurkat_DMSO_control2\",\"orientation\":\"v\",\"showlegend\":true,\"textposition\":\"auto\",\"x\":[\"Jurkat_DMSO_control2\"],\"xaxis\":\"x\",\"y\":[0],\"yaxis\":\"y\",\"type\":\"bar\"},{\"alignmentgroup\":\"True\",\"hovertemplate\":\"group_name=%{x}\\u003cbr\\u003en methylations=%{y}\\u003cextra\\u003e\\u003c\\u002fextra\\u003e\",\"legendgroup\":\"Jurkat_DMSO_control1\",\"marker\":{\"color\":\"#EF553B\",\"pattern\":{\"shape\":\"\"}},\"name\":\"Jurkat_DMSO_control1\",\"offsetgroup\":\"Jurkat_DMSO_control1\",\"orientation\":\"v\",\"showlegend\":true,\"textposition\":\"auto\",\"x\":[\"Jurkat_DMSO_control1\"],\"xaxis\":\"x\",\"y\":[0],\"yaxis\":\"y\",\"type\":\"bar\"},{\"alignmentgroup\":\"True\",\"hovertemplate\":\"group_name=%{x}\\u003cbr\\u003en methylations=%{y}\\u003cextra\\u003e\\u003c\\u002fextra\\u003e\",\"legendgroup\":\"Jurkat_betuline2\",\"marker\":{\"color\":\"#00cc96\",\"pattern\":{\"shape\":\"\"}},\"name\":\"Jurkat_betuline2\",\"offsetgroup\":\"Jurkat_betuline2\",\"orientation\":\"v\",\"showlegend\":true,\"textposition\":\"auto\",\"x\":[\"Jurkat_betuline2\"],\"xaxis\":\"x\",\"y\":[123],\"yaxis\":\"y\",\"type\":\"bar\"},{\"alignmentgroup\":\"True\",\"hovertemplate\":\"group_name=%{x}\\u003cbr\\u003en methylations=%{y}\\u003cextra\\u003e\\u003c\\u002fextra\\u003e\",\"legendgroup\":\"Jurkat_betuline1\",\"marker\":{\"color\":\"#ab63fa\",\"pattern\":{\"shape\":\"\"}},\"name\":\"Jurkat_betuline1\",\"offsetgroup\":\"Jurkat_betuline1\",\"orientation\":\"v\",\"showlegend\":true,\"textposition\":\"auto\",\"x\":[\"Jurkat_betuline1\"],\"xaxis\":\"x\",\"y\":[0],\"yaxis\":\"y\",\"type\":\"bar\"},{\"alignmentgroup\":\"True\",\"hovertemplate\":\"group_name=%{x}\\u003cbr\\u003en methylations=%{y}\\u003cextra\\u003e\\u003c\\u002fextra\\u003e\",\"legendgroup\":\"Healthy_control1\",\"marker\":{\"color\":\"#FFA15A\",\"pattern\":{\"shape\":\"\"}},\"name\":\"Healthy_control1\",\"offsetgroup\":\"Healthy_control1\",\"orientation\":\"v\",\"showlegend\":true,\"textposition\":\"auto\",\"x\":[\"Healthy_control1\"],\"xaxis\":\"x\",\"y\":[125],\"yaxis\":\"y\",\"type\":\"bar\"}],                        {\"template\":{\"data\":{\"histogram2dcontour\":[{\"type\":\"histogram2dcontour\",\"colorbar\":{\"outlinewidth\":0,\"ticks\":\"\"},\"colorscale\":[[0.0,\"#0d0887\"],[0.1111111111111111,\"#46039f\"],[0.2222222222222222,\"#7201a8\"],[0.3333333333333333,\"#9c179e\"],[0.4444444444444444,\"#bd3786\"],[0.5555555555555556,\"#d8576b\"],[0.6666666666666666,\"#ed7953\"],[0.7777777777777778,\"#fb9f3a\"],[0.8888888888888888,\"#fdca26\"],[1.0,\"#f0f921\"]]}],\"choropleth\":[{\"type\":\"choropleth\",\"colorbar\":{\"outlinewidth\":0,\"ticks\":\"\"}}],\"histogram2d\":[{\"type\":\"histogram2d\",\"colorbar\":{\"outlinewidth\":0,\"ticks\":\"\"},\"colorscale\":[[0.0,\"#0d0887\"],[0.1111111111111111,\"#46039f\"],[0.2222222222222222,\"#7201a8\"],[0.3333333333333333,\"#9c179e\"],[0.4444444444444444,\"#bd3786\"],[0.5555555555555556,\"#d8576b\"],[0.6666666666666666,\"#ed7953\"],[0.7777777777777778,\"#fb9f3a\"],[0.8888888888888888,\"#fdca26\"],[1.0,\"#f0f921\"]]}],\"heatmap\":[{\"type\":\"heatmap\",\"colorbar\":{\"outlinewidth\":0,\"ticks\":\"\"},\"colorscale\":[[0.0,\"#0d0887\"],[0.1111111111111111,\"#46039f\"],[0.2222222222222222,\"#7201a8\"],[0.3333333333333333,\"#9c179e\"],[0.4444444444444444,\"#bd3786\"],[0.5555555555555556,\"#d8576b\"],[0.6666666666666666,\"#ed7953\"],[0.7777777777777778,\"#fb9f3a\"],[0.8888888888888888,\"#fdca26\"],[1.0,\"#f0f921\"]]}],\"heatmapgl\":[{\"type\":\"heatmapgl\",\"colorbar\":{\"outlinewidth\":0,\"ticks\":\"\"},\"colorscale\":[[0.0,\"#0d0887\"],[0.1111111111111111,\"#46039f\"],[0.2222222222222222,\"#7201a8\"],[0.3333333333333333,\"#9c179e\"],[0.4444444444444444,\"#bd3786\"],[0.5555555555555556,\"#d8576b\"],[0.6666666666666666,\"#ed7953\"],[0.7777777777777778,\"#fb9f3a\"],[0.8888888888888888,\"#fdca26\"],[1.0,\"#f0f921\"]]}],\"contourcarpet\":[{\"type\":\"contourcarpet\",\"colorbar\":{\"outlinewidth\":0,\"ticks\":\"\"}}],\"contour\":[{\"type\":\"contour\",\"colorbar\":{\"outlinewidth\":0,\"ticks\":\"\"},\"colorscale\":[[0.0,\"#0d0887\"],[0.1111111111111111,\"#46039f\"],[0.2222222222222222,\"#7201a8\"],[0.3333333333333333,\"#9c179e\"],[0.4444444444444444,\"#bd3786\"],[0.5555555555555556,\"#d8576b\"],[0.6666666666666666,\"#ed7953\"],[0.7777777777777778,\"#fb9f3a\"],[0.8888888888888888,\"#fdca26\"],[1.0,\"#f0f921\"]]}],\"surface\":[{\"type\":\"surface\",\"colorbar\":{\"outlinewidth\":0,\"ticks\":\"\"},\"colorscale\":[[0.0,\"#0d0887\"],[0.1111111111111111,\"#46039f\"],[0.2222222222222222,\"#7201a8\"],[0.3333333333333333,\"#9c179e\"],[0.4444444444444444,\"#bd3786\"],[0.5555555555555556,\"#d8576b\"],[0.6666666666666666,\"#ed7953\"],[0.7777777777777778,\"#fb9f3a\"],[0.8888888888888888,\"#fdca26\"],[1.0,\"#f0f921\"]]}],\"mesh3d\":[{\"type\":\"mesh3d\",\"colorbar\":{\"outlinewidth\":0,\"ticks\":\"\"}}],\"scatter\":[{\"fillpattern\":{\"fillmode\":\"overlay\",\"size\":10,\"solidity\":0.2},\"type\":\"scatter\"}],\"parcoords\":[{\"type\":\"parcoords\",\"line\":{\"colorbar\":{\"outlinewidth\":0,\"ticks\":\"\"}}}],\"scatterpolargl\":[{\"type\":\"scatterpolargl\",\"marker\":{\"colorbar\":{\"outlinewidth\":0,\"ticks\":\"\"}}}],\"bar\":[{\"error_x\":{\"color\":\"#2a3f5f\"},\"error_y\":{\"color\":\"#2a3f5f\"},\"marker\":{\"line\":{\"color\":\"#E5ECF6\",\"width\":0.5},\"pattern\":{\"fillmode\":\"overlay\",\"size\":10,\"solidity\":0.2}},\"type\":\"bar\"}],\"scattergeo\":[{\"type\":\"scattergeo\",\"marker\":{\"colorbar\":{\"outlinewidth\":0,\"ticks\":\"\"}}}],\"scatterpolar\":[{\"type\":\"scatterpolar\",\"marker\":{\"colorbar\":{\"outlinewidth\":0,\"ticks\":\"\"}}}],\"histogram\":[{\"marker\":{\"pattern\":{\"fillmode\":\"overlay\",\"size\":10,\"solidity\":0.2}},\"type\":\"histogram\"}],\"scattergl\":[{\"type\":\"scattergl\",\"marker\":{\"colorbar\":{\"outlinewidth\":0,\"ticks\":\"\"}}}],\"scatter3d\":[{\"type\":\"scatter3d\",\"line\":{\"colorbar\":{\"outlinewidth\":0,\"ticks\":\"\"}},\"marker\":{\"colorbar\":{\"outlinewidth\":0,\"ticks\":\"\"}}}],\"scattermapbox\":[{\"type\":\"scattermapbox\",\"marker\":{\"colorbar\":{\"outlinewidth\":0,\"ticks\":\"\"}}}],\"scatterternary\":[{\"type\":\"scatterternary\",\"marker\":{\"colorbar\":{\"outlinewidth\":0,\"ticks\":\"\"}}}],\"scattercarpet\":[{\"type\":\"scattercarpet\",\"marker\":{\"colorbar\":{\"outlinewidth\":0,\"ticks\":\"\"}}}],\"carpet\":[{\"aaxis\":{\"endlinecolor\":\"#2a3f5f\",\"gridcolor\":\"white\",\"linecolor\":\"white\",\"minorgridcolor\":\"white\",\"startlinecolor\":\"#2a3f5f\"},\"baxis\":{\"endlinecolor\":\"#2a3f5f\",\"gridcolor\":\"white\",\"linecolor\":\"white\",\"minorgridcolor\":\"white\",\"startlinecolor\":\"#2a3f5f\"},\"type\":\"carpet\"}],\"table\":[{\"cells\":{\"fill\":{\"color\":\"#EBF0F8\"},\"line\":{\"color\":\"white\"}},\"header\":{\"fill\":{\"color\":\"#C8D4E3\"},\"line\":{\"color\":\"white\"}},\"type\":\"table\"}],\"barpolar\":[{\"marker\":{\"line\":{\"color\":\"#E5ECF6\",\"width\":0.5},\"pattern\":{\"fillmode\":\"overlay\",\"size\":10,\"solidity\":0.2}},\"type\":\"barpolar\"}],\"pie\":[{\"automargin\":true,\"type\":\"pie\"}]},\"layout\":{\"autotypenumbers\":\"strict\",\"colorway\":[\"#636efa\",\"#EF553B\",\"#00cc96\",\"#ab63fa\",\"#FFA15A\",\"#19d3f3\",\"#FF6692\",\"#B6E880\",\"#FF97FF\",\"#FECB52\"],\"font\":{\"color\":\"#2a3f5f\"},\"hovermode\":\"closest\",\"hoverlabel\":{\"align\":\"left\"},\"paper_bgcolor\":\"white\",\"plot_bgcolor\":\"#E5ECF6\",\"polar\":{\"bgcolor\":\"#E5ECF6\",\"angularaxis\":{\"gridcolor\":\"white\",\"linecolor\":\"white\",\"ticks\":\"\"},\"radialaxis\":{\"gridcolor\":\"white\",\"linecolor\":\"white\",\"ticks\":\"\"}},\"ternary\":{\"bgcolor\":\"#E5ECF6\",\"aaxis\":{\"gridcolor\":\"white\",\"linecolor\":\"white\",\"ticks\":\"\"},\"baxis\":{\"gridcolor\":\"white\",\"linecolor\":\"white\",\"ticks\":\"\"},\"caxis\":{\"gridcolor\":\"white\",\"linecolor\":\"white\",\"ticks\":\"\"}},\"coloraxis\":{\"colorbar\":{\"outlinewidth\":0,\"ticks\":\"\"}},\"colorscale\":{\"sequential\":[[0.0,\"#0d0887\"],[0.1111111111111111,\"#46039f\"],[0.2222222222222222,\"#7201a8\"],[0.3333333333333333,\"#9c179e\"],[0.4444444444444444,\"#bd3786\"],[0.5555555555555556,\"#d8576b\"],[0.6666666666666666,\"#ed7953\"],[0.7777777777777778,\"#fb9f3a\"],[0.8888888888888888,\"#fdca26\"],[1.0,\"#f0f921\"]],\"sequentialminus\":[[0.0,\"#0d0887\"],[0.1111111111111111,\"#46039f\"],[0.2222222222222222,\"#7201a8\"],[0.3333333333333333,\"#9c179e\"],[0.4444444444444444,\"#bd3786\"],[0.5555555555555556,\"#d8576b\"],[0.6666666666666666,\"#ed7953\"],[0.7777777777777778,\"#fb9f3a\"],[0.8888888888888888,\"#fdca26\"],[1.0,\"#f0f921\"]],\"diverging\":[[0,\"#8e0152\"],[0.1,\"#c51b7d\"],[0.2,\"#de77ae\"],[0.3,\"#f1b6da\"],[0.4,\"#fde0ef\"],[0.5,\"#f7f7f7\"],[0.6,\"#e6f5d0\"],[0.7,\"#b8e186\"],[0.8,\"#7fbc41\"],[0.9,\"#4d9221\"],[1,\"#276419\"]]},\"xaxis\":{\"gridcolor\":\"white\",\"linecolor\":\"white\",\"ticks\":\"\",\"title\":{\"standoff\":15},\"zerolinecolor\":\"white\",\"automargin\":true,\"zerolinewidth\":2},\"yaxis\":{\"gridcolor\":\"white\",\"linecolor\":\"white\",\"ticks\":\"\",\"title\":{\"standoff\":15},\"zerolinecolor\":\"white\",\"automargin\":true,\"zerolinewidth\":2},\"scene\":{\"xaxis\":{\"backgroundcolor\":\"#E5ECF6\",\"gridcolor\":\"white\",\"linecolor\":\"white\",\"showbackground\":true,\"ticks\":\"\",\"zerolinecolor\":\"white\",\"gridwidth\":2},\"yaxis\":{\"backgroundcolor\":\"#E5ECF6\",\"gridcolor\":\"white\",\"linecolor\":\"white\",\"showbackground\":true,\"ticks\":\"\",\"zerolinecolor\":\"white\",\"gridwidth\":2},\"zaxis\":{\"backgroundcolor\":\"#E5ECF6\",\"gridcolor\":\"white\",\"linecolor\":\"white\",\"showbackground\":true,\"ticks\":\"\",\"zerolinecolor\":\"white\",\"gridwidth\":2}},\"shapedefaults\":{\"line\":{\"color\":\"#2a3f5f\"}},\"annotationdefaults\":{\"arrowcolor\":\"#2a3f5f\",\"arrowhead\":0,\"arrowwidth\":1},\"geo\":{\"bgcolor\":\"white\",\"landcolor\":\"#E5ECF6\",\"subunitcolor\":\"white\",\"showland\":true,\"showlakes\":true,\"lakecolor\":\"white\"},\"title\":{\"x\":0.05},\"mapbox\":{\"style\":\"light\"}}},\"xaxis\":{\"anchor\":\"y\",\"domain\":[0.0,1.0],\"title\":{\"text\":\"group_name\"},\"categoryorder\":\"array\",\"categoryarray\":[\"Jurkat_DMSO_control2\",\"Jurkat_DMSO_control1\",\"Jurkat_betuline2\",\"Jurkat_betuline1\",\"Healthy_control1\"]},\"yaxis\":{\"anchor\":\"x\",\"domain\":[0.0,1.0],\"title\":{\"text\":\"n methylations\"}},\"legend\":{\"title\":{\"text\":\"group_name\"},\"tracegroupgap\":0},\"title\":{\"text\":\"Amount of methylations for the CDK1 gene\"},\"barmode\":\"relative\"},                        {\"responsive\": true}                    ).then(function(){\n",
       "                            \n",
       "var gd = document.getElementById('7409b615-4ef8-4525-9fb3-d272bac6f2c8');\n",
       "var x = new MutationObserver(function (mutations, observer) {{\n",
       "        var display = window.getComputedStyle(gd).display;\n",
       "        if (!display || display === 'none') {{\n",
       "            console.log([gd, 'removed!']);\n",
       "            Plotly.purge(gd);\n",
       "            observer.disconnect();\n",
       "        }}\n",
       "}});\n",
       "\n",
       "// Listen for the removal of the full notebook cells\n",
       "var notebookContainer = gd.closest('#notebook-container');\n",
       "if (notebookContainer) {{\n",
       "    x.observe(notebookContainer, {childList: true});\n",
       "}}\n",
       "\n",
       "// Listen for the clearing of the current output cell\n",
       "var outputEl = gd.closest('.output');\n",
       "if (outputEl) {{\n",
       "    x.observe(outputEl, {childList: true});\n",
       "}}\n",
       "\n",
       "                        })                };                });            </script>        </div>"
      ]
     },
     "metadata": {},
     "output_type": "display_data"
    }
   ],
   "source": [
    "\n",
    "fig = px.bar(cdk1_count_data, y=\"n methylations\", x=\"group_name\", color=\"group_name\",\n",
    "             title=\"Amount of methylations for the CDK1 gene\")\n",
    "fig.show()"
   ]
  },
  {
   "cell_type": "markdown",
   "metadata": {},
   "source": [
    "### <a id='toc1_5_3_'></a>[05-12-2024](#toc0_)\n",
    "These barcharts show the amount of methylations found in the data, it does not show where these methylation points are. We could use a loliplot for this.\n"
   ]
  },
  {
   "cell_type": "code",
   "execution_count": null,
   "metadata": {},
   "outputs": [],
   "source": []
  }
 ],
 "metadata": {
  "kernelspec": {
   "display_name": ".venv",
   "language": "python",
   "name": "python3"
  },
  "language_info": {
   "codemirror_mode": {
    "name": "ipython",
    "version": 3
   },
   "file_extension": ".py",
   "mimetype": "text/x-python",
   "name": "python",
   "nbconvert_exporter": "python",
   "pygments_lexer": "ipython3",
   "version": "3.11.2"
  }
 },
 "nbformat": 4,
 "nbformat_minor": 2
}
