{
 "cells": [
  {
   "cell_type": "markdown",
   "metadata": {},
   "source": [
    "**Table of contents**<a id='toc0_'></a>    \n",
    "- [Logs for the methylation data app](#toc1_)    \n",
    "  - [Introduction](#toc1_1_)    \n",
    "    - [21-11-2024](#toc1_1_1_)    \n",
    "  - [Loading in the data](#toc1_2_)    \n",
    "    - [21-11-2024](#toc1_2_1_)    \n",
    "    - [22-11-2024](#toc1_2_2_)    \n",
    "\n",
    "<!-- vscode-jupyter-toc-config\n",
    "\tnumbering=false\n",
    "\tanchor=true\n",
    "\tflat=false\n",
    "\tminLevel=1\n",
    "\tmaxLevel=6\n",
    "\t/vscode-jupyter-toc-config -->\n",
    "<!-- THIS CELL WILL BE REPLACED ON TOC UPDATE. DO NOT WRITE YOUR TEXT IN THIS CELL -->"
   ]
  },
  {
   "cell_type": "markdown",
   "metadata": {},
   "source": [
    "# <a id='toc1_'></a>[Logs for the methylation data app](#toc0_)"
   ]
  },
  {
   "cell_type": "markdown",
   "metadata": {},
   "source": [
    "## <a id='toc1_1_'></a>[Introduction](#toc0_)\n",
    "### <a id='toc1_1_1_'></a>[21-11-2024](#toc0_)\n",
    "\n",
    "This logbook will describe the process of creating visualisations, ideas. These visualisations and ideas will be used to create an application for research students.\n",
    "This application will take DNA methylation data as input. This app will make it easier for the students to look into their generated data, and it will help them with understanding their data.\n"
   ]
  },
  {
   "cell_type": "markdown",
   "metadata": {},
   "source": [
    "## <a id='toc1_2_'></a>[Loading in the data](#toc0_)\n",
    "### <a id='toc1_2_1_'></a>[21-11-2024](#toc0_)\n",
    "\n",
    "I would like to combine the data from all the files into one single file, with the id in the column of the df.\n",
    "This way i could compare different conditions to eachother.\n",
    "\n",
    "The first code-block is to load in the used libraries."
   ]
  },
  {
   "cell_type": "code",
   "execution_count": 69,
   "metadata": {
    "ExecuteTime": {
     "end_time": "2024-11-22T11:16:01.011475Z",
     "start_time": "2024-11-22T11:16:00.946419Z"
    }
   },
   "outputs": [],
   "source": [
    "import os\n",
    "import seaborn as sns\n",
    "import matplotlib.pyplot as plt\n",
    "import polars as pl\n",
    "import pandas as pd\n",
    "import re"
   ]
  },
  {
   "cell_type": "code",
   "execution_count": null,
   "metadata": {
    "ExecuteTime": {
     "end_time": "2024-11-22T11:16:02.575714Z",
     "start_time": "2024-11-22T11:16:02.561630Z"
    }
   },
   "outputs": [
    {
     "name": "stdout",
     "output_type": "stream",
     "text": [
      "shape: (5, 3)\n",
      "┌─────────┬─────────────────────┬──────────────────────┐\n",
      "│ barcode ┆  description        ┆ group_and_n          │\n",
      "│ ---     ┆ ---                 ┆ ---                  │\n",
      "│ i64     ┆ str                 ┆ str                  │\n",
      "╞═════════╪═════════════════════╪══════════════════════╡\n",
      "│ 11      ┆ Jurkat_DMSO_control ┆ Jurkat_DMSO_control1 │\n",
      "│ 12      ┆ Jurkat_betuline     ┆ Jurkat_betuline1     │\n",
      "│ 13      ┆ Healthy_control     ┆ Healthy_control1     │\n",
      "│ 14      ┆ Jurkat_betuline     ┆ Jurkat_betuline2     │\n",
      "│ 15      ┆ Jurkat_DMSO_control ┆ Jurkat_DMSO_control2 │\n",
      "└─────────┴─────────────────────┴──────────────────────┘\n"
     ]
    }
   ],
   "source": [
    "barcodes_names: pl.dataframe = pl.read_csv(\"/home/redman/jaar2/data/Methylatie/barcodes.csv\")\n",
    "\n",
    "barcodes_names = barcodes_names.with_columns(controle_n = pl.int_range(pl.len()).over(\" description\")+1)\n",
    "barcodes_names = barcodes_names.with_columns(group_and_n = pl.concat_str([pl.col(' description'), pl.col(\"controle_n\")]))\n",
    "\n",
    "barcodes_names = barcodes_names.with_columns(pl.col(pl.Utf8).str.strip_chars()).drop(\"controle_n\")\n",
    "\n",
    "print(barcodes_names)\n",
    "\n"
   ]
  },
  {
   "cell_type": "markdown",
   "metadata": {},
   "source": [
    "This generates a data frame that contains the barcode and also the description of the barcode\n",
    "The column called group_and_n contains the description with a control group number\n",
    "\n",
    "This is needed to label the different groups in the df that will contain all of the data\n",
    "\n",
    "Which will be loaded in the code below this block"
   ]
  },
  {
   "cell_type": "code",
   "execution_count": null,
   "metadata": {
    "ExecuteTime": {
     "end_time": "2024-11-22T11:16:20.852674Z",
     "start_time": "2024-11-22T11:16:04.653763Z"
    }
   },
   "outputs": [],
   "source": [
    "path: str = \"/home/redman/jaar2/data/Methylatie/analysis\"\n",
    "def load_files(path: str) -> pl.dataframe:\n",
    "    resulting_df: pd.DataFrame = pl.DataFrame(\n",
    "        {\"chr\":[],\n",
    "         \"start\":[],\n",
    "         \"end\":[],\n",
    "         \"frac\":[],\n",
    "         \"valid\":[],\n",
    "         \"group_name\":[]}\n",
    "    )\n",
    "    files: list[str] = os.listdir(path)\n",
    "\n",
    "    for file in files:\n",
    "        if os.path.isfile(f\"{path}/{file}\") and file.endswith(\"methylatie_ALL.csv\"):\n",
    "            temp_df: pd.DataFrame = pd.read_csv(f\"{path}/{file}\", sep=\"\\t\")\n",
    "            temp_df: pl.DataFrame = pl.from_pandas(temp_df)\n",
    "            barcode_num: list[int] = re.findall(r\"\\d+\", file)\n",
    "\n",
    "            name_group: str = barcodes_names.filter(pl.col(\"barcode\").cast(pl.String) == barcode_num[0]).select(\"group_and_n\")\n",
    "            temp_df: pl.DataFrame = temp_df.with_columns(pl.lit(name_group).alias(\"group_name\"))\n",
    "            resulting_df = pl.concat([temp_df, resulting_df])\n",
    "    \n",
    "    return resulting_df\n",
    "    \n",
    "df: pl.DataFrame = load_files(path=path)"
   ]
  },
  {
   "cell_type": "markdown",
   "metadata": {},
   "source": [
    "All of the csv files are now loaded into 1 polars dataframe"
   ]
  },
  {
   "cell_type": "code",
   "execution_count": 89,
   "metadata": {
    "ExecuteTime": {
     "end_time": "2024-11-22T11:16:32.888362Z",
     "start_time": "2024-11-22T11:16:32.884483Z"
    }
   },
   "outputs": [
    {
     "name": "stdout",
     "output_type": "stream",
     "text": [
      "shape: (5, 6)\n",
      "┌──────┬───────┬───────┬──────┬───────┬──────────────────┐\n",
      "│ chr  ┆ start ┆ end   ┆ frac ┆ valid ┆ group_name       │\n",
      "│ ---  ┆ ---   ┆ ---   ┆ ---  ┆ ---   ┆ ---              │\n",
      "│ str  ┆ i64   ┆ i64   ┆ f64  ┆ i64   ┆ str              │\n",
      "╞══════╪═══════╪═══════╪══════╪═══════╪══════════════════╡\n",
      "│ chr1 ┆ 61624 ┆ 61625 ┆ 0.0  ┆ 1     ┆ Jurkat_betuline1 │\n",
      "│ chr1 ┆ 61802 ┆ 61803 ┆ 0.0  ┆ 1     ┆ Jurkat_betuline1 │\n",
      "│ chr1 ┆ 61900 ┆ 61901 ┆ 0.0  ┆ 1     ┆ Jurkat_betuline1 │\n",
      "│ chr1 ┆ 61921 ┆ 61922 ┆ 1.0  ┆ 1     ┆ Jurkat_betuline1 │\n",
      "│ chr1 ┆ 61929 ┆ 61930 ┆ 1.0  ┆ 1     ┆ Jurkat_betuline1 │\n",
      "└──────┴───────┴───────┴──────┴───────┴──────────────────┘\n"
     ]
    }
   ],
   "source": [
    "\n",
    "print(df.head())\n"
   ]
  },
  {
   "cell_type": "markdown",
   "metadata": {},
   "source": [
    "### <a id='toc1_2_2_'></a>[22-11-2024](#toc0_)\n",
    "I now have a data frame with the methylation data with a column called group_name that holds the name of the group of which the data comes from"
   ]
  },
  {
   "cell_type": "code",
   "execution_count": 77,
   "metadata": {
    "ExecuteTime": {
     "end_time": "2024-11-22T11:16:35.768393Z",
     "start_time": "2024-11-22T11:16:35.333712Z"
    }
   },
   "outputs": [
    {
     "name": "stdout",
     "output_type": "stream",
     "text": [
      "shape: (83, 6)\n",
      "┌───────┬──────────┬──────────┬──────┬───────┬──────────────────┐\n",
      "│ chr   ┆ start    ┆ end      ┆ frac ┆ valid ┆ group_name       │\n",
      "│ ---   ┆ ---      ┆ ---      ┆ ---  ┆ ---   ┆ ---              │\n",
      "│ str   ┆ i64      ┆ i64      ┆ f64  ┆ i64   ┆ str              │\n",
      "╞═══════╪══════════╪══════════╪══════╪═══════╪══════════════════╡\n",
      "│ chr10 ┆ 60778212 ┆ 60778213 ┆ 0.0  ┆ 1     ┆ Jurkat_betuline2 │\n",
      "│ chr10 ┆ 60778217 ┆ 60778218 ┆ 0.0  ┆ 1     ┆ Jurkat_betuline2 │\n",
      "│ chr10 ┆ 60778237 ┆ 60778238 ┆ 0.0  ┆ 1     ┆ Jurkat_betuline2 │\n",
      "│ chr10 ┆ 60778258 ┆ 60778259 ┆ 0.0  ┆ 1     ┆ Jurkat_betuline2 │\n",
      "│ chr10 ┆ 60778283 ┆ 60778284 ┆ 0.0  ┆ 1     ┆ Jurkat_betuline2 │\n",
      "│ …     ┆ …        ┆ …        ┆ …    ┆ …     ┆ …                │\n",
      "│ chr10 ┆ 60778682 ┆ 60778683 ┆ 0.0  ┆ 3     ┆ Healthy_control1 │\n",
      "│ chr10 ┆ 60778689 ┆ 60778690 ┆ 0.0  ┆ 3     ┆ Healthy_control1 │\n",
      "│ chr10 ┆ 60778700 ┆ 60778701 ┆ 0.0  ┆ 3     ┆ Healthy_control1 │\n",
      "│ chr10 ┆ 60778707 ┆ 60778708 ┆ 0.0  ┆ 3     ┆ Healthy_control1 │\n",
      "│ chr10 ┆ 60778723 ┆ 60778724 ┆ 0.0  ┆ 3     ┆ Healthy_control1 │\n",
      "└───────┴──────────┴──────────┴──────┴───────┴──────────────────┘\n"
     ]
    }
   ],
   "source": [
    "test: pl.DataFrame = df.filter(\n",
    "    pl.col(\"group_name\").is_in(['Healthy_control1', 'Jurkat_betuline1', 'Jurkat_betuline2'])\n",
    ")\n",
    "test: pl.DataFrame = df.filter((pl.col(\"start\") >= 60778131) & \n",
    "                   (pl.col(\"end\") <= 60778731) & \n",
    "                   (pl.col(\"chr\") == \"chr10\"))\n",
    "print(test)"
   ]
  },
  {
   "cell_type": "code",
   "execution_count": 87,
   "metadata": {
    "ExecuteTime": {
     "end_time": "2024-11-22T11:16:43.879496Z",
     "start_time": "2024-11-22T11:16:42.664902Z"
    }
   },
   "outputs": [
    {
     "name": "stdout",
     "output_type": "stream",
     "text": [
      "shape: (5, 2)\n",
      "┌──────────────────────┬────────────────┐\n",
      "│ group_name           ┆ n methylations │\n",
      "│ ---                  ┆ ---            │\n",
      "│ str                  ┆ u32            │\n",
      "╞══════════════════════╪════════════════╡\n",
      "│ Jurkat_DMSO_control1 ┆ 0              │\n",
      "│ Jurkat_betuline1     ┆ 0              │\n",
      "│ Jurkat_DMSO_control2 ┆ 0              │\n",
      "│ Jurkat_betuline2     ┆ 39             │\n",
      "│ Healthy_control1     ┆ 44             │\n",
      "└──────────────────────┴────────────────┘\n"
     ]
    }
   ],
   "source": [
    "all_groups = pl.DataFrame({\"group_name\": df[\"group_name\"].unique()})\n",
    "\n",
    "test_agg: pl.DataFrame = (\n",
    "    test\n",
    "    .select([\"group_name\", \"frac\"])\n",
    "    .group_by(\"group_name\")\n",
    "    .agg([pl.len().alias(\"n methylations\")])\n",
    "    .join(all_groups, on=\"group_name\", how=\"full\")\n",
    "    .with_columns(pl.col(\"group_name\").fill_null(pl.col(\"group_name_right\")))\n",
    "    .drop(\"group_name_right\") \n",
    "    .fill_null(0)\n",
    ")\n",
    "print(test_agg)\n"
   ]
  },
  {
   "cell_type": "code",
   "execution_count": 88,
   "metadata": {
    "ExecuteTime": {
     "end_time": "2024-11-22T11:19:58.214196Z",
     "start_time": "2024-11-22T11:19:58.087615Z"
    }
   },
   "outputs": [
    {
     "data": {
      "image/png": "[encoded data removed]",
      "text/plain": [
       "<Figure size 640x480 with 1 Axes>"
      ]
     },
     "metadata": {},
     "output_type": "display_data"
    }
   ],
   "source": [
    "sns.set_theme()\n",
    "\n",
    "sns.barplot(data = test_agg.reverse(),\n",
    "            y = \"group_name\", x = \"n methylations\",\n",
    "            hue=\"group_name\", palette=\"Set2\")\n",
    "plt.show()"
   ]
  }
 ],
 "metadata": {
  "kernelspec": {
   "display_name": ".venv",
   "language": "python",
   "name": "python3"
  },
  "language_info": {
   "codemirror_mode": {
    "name": "ipython",
    "version": 3
   },
   "file_extension": ".py",
   "mimetype": "text/x-python",
   "name": "python",
   "nbconvert_exporter": "python",
   "pygments_lexer": "ipython3",
   "version": "3.12.7"
  }
 },
 "nbformat": 4,
 "nbformat_minor": 2
}
